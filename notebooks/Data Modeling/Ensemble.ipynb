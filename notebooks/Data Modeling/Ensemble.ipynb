{
 "cells": [
  {
   "cell_type": "code",
   "execution_count": 31,
   "id": "7f530ab5",
   "metadata": {},
   "outputs": [],
   "source": [
    "import sys\n",
    "sys.path.append(R'E:\\Data science\\Titanic dataset\\notebooks')\n",
    "\n",
    "from auto_imports import model_results_imports ,auto_imports\n",
    "\n",
    "model_results_imports()\n",
    "auto_imports()\n",
    "\n",
    "import joblib  # to laod the models\n",
    "predict_data = pd.read_csv('E:\\Data science\\Titanic dataset\\data\\Processed data\\Data Modeling\\predicting_data.csv')"
   ]
  },
  {
   "cell_type": "code",
   "execution_count": 32,
   "id": "df81343a",
   "metadata": {},
   "outputs": [],
   "source": [
    "# loading the models\n",
    "logit = joblib.load('E:\\Data science\\Titanic dataset\\Models\\LogisticRegression.pkl')\n",
    "RF_ = joblib.load('E:\\Data science\\Titanic dataset\\Models\\RandomForest.pkl')\n",
    "svm_ = joblib.load('E:\\Data science\\Titanic dataset\\Models\\SupportVectorMachine.pkl')"
   ]
  },
  {
   "cell_type": "markdown",
   "id": "39fbcc8e",
   "metadata": {},
   "source": [
    "## Manual Ensembling with Model-Specific Thresholds\n",
    "\n",
    "This notebook demonstrates how to ensemble three different models (SVM, Logistic Regression, Random Forest) using specific probability thresholds for each. Each model's prediction is binarized using its own threshold, and the final ensemble prediction is determined by majority voting."
   ]
  },
  {
   "cell_type": "markdown",
   "id": "92121ab3",
   "metadata": {},
   "source": [
    "### Ensemble Approach\n",
    "\n",
    "- **Step 1:** Obtain predicted probabilities for each model on the test data.\n",
    "- **Step 2:** Apply a specific threshold to each model's probabilities to get binary predictions:\n",
    "  - SVM: threshold = 0.44\n",
    "  - Logistic Regression: threshold = 0.59\n",
    "  - Random Forest: threshold = 0.6\n",
    "- **Step 3:** Combine the binary predictions using majority voting (at least 2 out of 3 models must predict 1 for the ensemble to predict 1)."
   ]
  },
  {
   "cell_type": "code",
   "execution_count": 33,
   "id": "08204e4f",
   "metadata": {},
   "outputs": [],
   "source": [
    "# getting probabilities \n",
    "svm_probs = svm_.predict_proba(predict_data.drop('PassengerId' , axis=1))[: , 1]\n",
    "RF_probs = RF_.predict_proba(predict_data.drop('PassengerId' , axis=1))[: , 1]\n",
    "logit_probs = logit.predict_proba(predict_data.drop('PassengerId' , axis=1))[: , 1]\n",
    "\n",
    "\n",
    "# get predictions\n",
    "svm_preds = (svm_probs >= 0.44).astype(int)\n",
    "logit_preds = (logit_probs >= 0.59).astype(int)\n",
    "RF_preds = (RF_probs >= 0.6).astype(int)"
   ]
  },
  {
   "cell_type": "code",
   "execution_count": 34,
   "id": "be8750c1",
   "metadata": {},
   "outputs": [],
   "source": [
    "# Majority voting manually\n",
    "ensemble_preds = ( (svm_preds + logit_preds + RF_preds) >= 2).astype(int)"
   ]
  },
  {
   "cell_type": "code",
   "execution_count": 35,
   "id": "6fca778c",
   "metadata": {},
   "outputs": [
    {
     "data": {
      "text/plain": [
       "array([0, 0, 0, 0, 1])"
      ]
     },
     "execution_count": 35,
     "metadata": {},
     "output_type": "execute_result"
    }
   ],
   "source": [
    "ensemble_preds[:5]"
   ]
  },
  {
   "cell_type": "code",
   "execution_count": 36,
   "id": "6aae1a3a",
   "metadata": {},
   "outputs": [],
   "source": [
    "pd.DataFrame(\n",
    "    {\n",
    "        'PassengerId':predict_data['PassengerId'],\n",
    "        'Survived': ensemble_preds\n",
    "    }\n",
    ").to_csv(r'E:\\Data science\\Titanic dataset\\data\\Processed data\\final_predictions.csv' ,index=False )"
   ]
  },
  {
   "cell_type": "markdown",
   "id": "a57e71d1",
   "metadata": {},
   "source": [
    "### Notes\n",
    "\n",
    "- This approach allows each model to contribute its prediction based on its optimal threshold, which can improve ensemble performance compared to using a single threshold for all models.\n",
    "- The final predictions are saved to `final_predictions.csv` for submission or further analysis."
   ]
  }
 ],
 "metadata": {
  "kernelspec": {
   "display_name": "venv",
   "language": "python",
   "name": "python3"
  },
  "language_info": {
   "codemirror_mode": {
    "name": "ipython",
    "version": 3
   },
   "file_extension": ".py",
   "mimetype": "text/x-python",
   "name": "python",
   "nbconvert_exporter": "python",
   "pygments_lexer": "ipython3",
   "version": "3.13.3"
  }
 },
 "nbformat": 4,
 "nbformat_minor": 5
}
