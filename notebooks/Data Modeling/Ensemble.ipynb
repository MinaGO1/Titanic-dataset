{
 "cells": [
  {
   "cell_type": "code",
   "execution_count": 1,
   "id": "7f530ab5",
   "metadata": {},
   "outputs": [
    {
     "name": "stderr",
     "output_type": "stream",
     "text": [
      "<>:10: SyntaxWarning: invalid escape sequence '\\D'\n",
      "<>:10: SyntaxWarning: invalid escape sequence '\\D'\n",
      "C:\\Users\\MinaAlber\\AppData\\Local\\Temp\\ipykernel_9952\\3574336889.py:10: SyntaxWarning: invalid escape sequence '\\D'\n",
      "  predict_data = pd.read_csv('E:\\Data science\\Titanic dataset\\data\\Processed data\\Data Modeling\\predicting_data.csv')\n"
     ]
    }
   ],
   "source": [
    "import sys\n",
    "sys.path.append(R'E:\\Data science\\Titanic dataset\\notebooks')\n",
    "\n",
    "from auto_imports import model_results_imports ,auto_imports\n",
    "\n",
    "model_results_imports()\n",
    "auto_imports()\n",
    "\n",
    "import joblib  # to laod the models\n",
    "predict_data = pd.read_csv('E:\\Data science\\Titanic dataset\\data\\Processed data\\Data Modeling\\predicting_data.csv')"
   ]
  },
  {
   "cell_type": "code",
   "execution_count": 2,
   "id": "df81343a",
   "metadata": {},
   "outputs": [],
   "source": [
    "# loading the models\n",
    "logit = joblib.load('E:\\Data science\\Titanic dataset\\Models\\LogisticRegression.pkl')\n",
    "RF_ = joblib.load('E:\\Data science\\Titanic dataset\\Models\\RandomForest.pkl')\n",
    "svm_ = joblib.load('E:\\Data science\\Titanic dataset\\Models\\SupportVectorMachine.pkl')"
   ]
  },
  {
   "cell_type": "markdown",
   "id": "39fbcc8e",
   "metadata": {},
   "source": [
    "I will make ensembling manually becuase of thresholds"
   ]
  },
  {
   "cell_type": "markdown",
   "id": "92121ab3",
   "metadata": {},
   "source": [
    "### Ensemble"
   ]
  },
  {
   "cell_type": "code",
   "execution_count": 3,
   "id": "08204e4f",
   "metadata": {},
   "outputs": [],
   "source": [
    "# getting probabilities \n",
    "svm_probs = svm_.predict_proba(predict_data.drop('PassengerId' , axis=1))[: , 1]\n",
    "RF_probs = RF_.predict_proba(predict_data.drop('PassengerId' , axis=1))[: , 1]\n",
    "logit_probs = logit.predict_proba(predict_data.drop('PassengerId' , axis=1))[: , 1]\n",
    "\n",
    "\n",
    "# get predictions\n",
    "svm_preds = (svm_probs >= 0.4).astype(int)\n",
    "logit_preds = (logit_probs >= 0.6).astype(int)\n",
    "RF_preds = (RF_probs >= 0.4).astype(int)"
   ]
  },
  {
   "cell_type": "code",
   "execution_count": 4,
   "id": "be8750c1",
   "metadata": {},
   "outputs": [],
   "source": [
    "# Majority voting manually\n",
    "ensemble_preds = ((svm_preds + logit_preds + RF_preds) >= 2).astype(int)"
   ]
  },
  {
   "cell_type": "code",
   "execution_count": 5,
   "id": "6fca778c",
   "metadata": {},
   "outputs": [
    {
     "data": {
      "text/plain": [
       "array([0, 1, 0, 0, 1])"
      ]
     },
     "execution_count": 5,
     "metadata": {},
     "output_type": "execute_result"
    }
   ],
   "source": [
    "ensemble_preds[:5]"
   ]
  },
  {
   "cell_type": "code",
   "execution_count": 6,
   "id": "6aae1a3a",
   "metadata": {},
   "outputs": [],
   "source": [
    "pd.DataFrame(\n",
    "    {\n",
    "        'PassengerId':predict_data['PassengerId'],\n",
    "        'Survived': ensemble_preds\n",
    "    }\n",
    ").to_csv(r'E:\\Data science\\Titanic dataset\\data\\Processed data\\final_predictions.csv' ,index=False )"
   ]
  }
 ],
 "metadata": {
  "kernelspec": {
   "display_name": "venv",
   "language": "python",
   "name": "python3"
  },
  "language_info": {
   "codemirror_mode": {
    "name": "ipython",
    "version": 3
   },
   "file_extension": ".py",
   "mimetype": "text/x-python",
   "name": "python",
   "nbconvert_exporter": "python",
   "pygments_lexer": "ipython3",
   "version": "3.13.3"
  }
 },
 "nbformat": 4,
 "nbformat_minor": 5
}
