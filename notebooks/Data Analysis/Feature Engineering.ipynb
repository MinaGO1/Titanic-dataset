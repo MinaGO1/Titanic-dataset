{
 "cells": [
  {
   "cell_type": "code",
   "execution_count": 83,
   "id": "e69aafec",
   "metadata": {},
   "outputs": [],
   "source": [
    "# Import needed libraries and load cleaned data for feature engineering\n",
    "import sys\n",
    "notebook_path = sys.path.append(r'e:\\Data science\\Titanic dataset\\notebooks')\n",
    "\n",
    "from auto_imports import *\n",
    "\n",
    "df = pd.read_csv('E:\\Data science\\Titanic dataset\\data\\Processed data\\Data Analysis\\cleaned data.csv')"
   ]
  },
  {
   "cell_type": "markdown",
   "id": "f6a4df38",
   "metadata": {},
   "source": [
    "### Feature engineering\n",
    "\n",
    "This notebook extracts new features from the Titanic dataset, such as splitting the Cabin, Name, and Ticket columns into more informative components."
   ]
  },
  {
   "cell_type": "code",
   "execution_count": 84,
   "id": "a4399dd0",
   "metadata": {},
   "outputs": [
    {
     "data": {
      "text/html": [
       "<div>\n",
       "<style scoped>\n",
       "    .dataframe tbody tr th:only-of-type {\n",
       "        vertical-align: middle;\n",
       "    }\n",
       "\n",
       "    .dataframe tbody tr th {\n",
       "        vertical-align: top;\n",
       "    }\n",
       "\n",
       "    .dataframe thead th {\n",
       "        text-align: right;\n",
       "    }\n",
       "</style>\n",
       "<table border=\"1\" class=\"dataframe\">\n",
       "  <thead>\n",
       "    <tr style=\"text-align: right;\">\n",
       "      <th></th>\n",
       "      <th>PassengerId</th>\n",
       "      <th>Survived</th>\n",
       "      <th>Pclass</th>\n",
       "      <th>Name</th>\n",
       "      <th>Sex</th>\n",
       "      <th>Age</th>\n",
       "      <th>SibSp</th>\n",
       "      <th>Parch</th>\n",
       "      <th>Ticket</th>\n",
       "      <th>Fare</th>\n",
       "      <th>Cabin</th>\n",
       "      <th>Embarked</th>\n",
       "      <th>ind</th>\n",
       "    </tr>\n",
       "  </thead>\n",
       "  <tbody>\n",
       "    <tr>\n",
       "      <th>0</th>\n",
       "      <td>1</td>\n",
       "      <td>0.0</td>\n",
       "      <td>3</td>\n",
       "      <td>Braund, Mr. Owen Harris</td>\n",
       "      <td>male</td>\n",
       "      <td>22.0</td>\n",
       "      <td>1</td>\n",
       "      <td>0</td>\n",
       "      <td>A/5 21171</td>\n",
       "      <td>7.2500</td>\n",
       "      <td>C23 C25 C27</td>\n",
       "      <td>S</td>\n",
       "      <td>train</td>\n",
       "    </tr>\n",
       "    <tr>\n",
       "      <th>1</th>\n",
       "      <td>2</td>\n",
       "      <td>1.0</td>\n",
       "      <td>1</td>\n",
       "      <td>Cumings, Mrs. John Bradley (Florence Briggs Th...</td>\n",
       "      <td>female</td>\n",
       "      <td>38.0</td>\n",
       "      <td>1</td>\n",
       "      <td>0</td>\n",
       "      <td>PC 17599</td>\n",
       "      <td>71.2833</td>\n",
       "      <td>C85</td>\n",
       "      <td>C</td>\n",
       "      <td>train</td>\n",
       "    </tr>\n",
       "    <tr>\n",
       "      <th>2</th>\n",
       "      <td>3</td>\n",
       "      <td>1.0</td>\n",
       "      <td>3</td>\n",
       "      <td>Heikkinen, Miss. Laina</td>\n",
       "      <td>female</td>\n",
       "      <td>26.0</td>\n",
       "      <td>0</td>\n",
       "      <td>0</td>\n",
       "      <td>STON/O2. 3101282</td>\n",
       "      <td>7.9250</td>\n",
       "      <td>C23 C25 C27</td>\n",
       "      <td>S</td>\n",
       "      <td>train</td>\n",
       "    </tr>\n",
       "    <tr>\n",
       "      <th>3</th>\n",
       "      <td>4</td>\n",
       "      <td>1.0</td>\n",
       "      <td>1</td>\n",
       "      <td>Futrelle, Mrs. Jacques Heath (Lily May Peel)</td>\n",
       "      <td>female</td>\n",
       "      <td>35.0</td>\n",
       "      <td>1</td>\n",
       "      <td>0</td>\n",
       "      <td>113803</td>\n",
       "      <td>53.1000</td>\n",
       "      <td>C123</td>\n",
       "      <td>S</td>\n",
       "      <td>train</td>\n",
       "    </tr>\n",
       "    <tr>\n",
       "      <th>4</th>\n",
       "      <td>5</td>\n",
       "      <td>0.0</td>\n",
       "      <td>3</td>\n",
       "      <td>Allen, Mr. William Henry</td>\n",
       "      <td>male</td>\n",
       "      <td>35.0</td>\n",
       "      <td>0</td>\n",
       "      <td>0</td>\n",
       "      <td>373450</td>\n",
       "      <td>8.0500</td>\n",
       "      <td>C23 C25 C27</td>\n",
       "      <td>S</td>\n",
       "      <td>train</td>\n",
       "    </tr>\n",
       "  </tbody>\n",
       "</table>\n",
       "</div>"
      ],
      "text/plain": [
       "   PassengerId  Survived  Pclass  \\\n",
       "0            1       0.0       3   \n",
       "1            2       1.0       1   \n",
       "2            3       1.0       3   \n",
       "3            4       1.0       1   \n",
       "4            5       0.0       3   \n",
       "\n",
       "                                                Name     Sex   Age  SibSp  \\\n",
       "0                            Braund, Mr. Owen Harris    male  22.0      1   \n",
       "1  Cumings, Mrs. John Bradley (Florence Briggs Th...  female  38.0      1   \n",
       "2                             Heikkinen, Miss. Laina  female  26.0      0   \n",
       "3       Futrelle, Mrs. Jacques Heath (Lily May Peel)  female  35.0      1   \n",
       "4                           Allen, Mr. William Henry    male  35.0      0   \n",
       "\n",
       "   Parch            Ticket     Fare        Cabin Embarked    ind  \n",
       "0      0         A/5 21171   7.2500  C23 C25 C27        S  train  \n",
       "1      0          PC 17599  71.2833          C85        C  train  \n",
       "2      0  STON/O2. 3101282   7.9250  C23 C25 C27        S  train  \n",
       "3      0            113803  53.1000         C123        S  train  \n",
       "4      0            373450   8.0500  C23 C25 C27        S  train  "
      ]
     },
     "execution_count": 84,
     "metadata": {},
     "output_type": "execute_result"
    }
   ],
   "source": [
    "# Show first rows of dataframe to understand the structure\n",
    "df.head()"
   ]
  },
  {
   "cell_type": "markdown",
   "id": "cebb25b5",
   "metadata": {},
   "source": [
    "#### Cabin Feature Engineering\n",
    "\n",
    "Split the Cabin column into two new features: cabin cell number and cabin letter."
   ]
  },
  {
   "cell_type": "code",
   "execution_count": 85,
   "id": "685d3496",
   "metadata": {},
   "outputs": [
    {
     "data": {
      "text/plain": [
       "0       C23 C25 C27\n",
       "1               C85\n",
       "2       C23 C25 C27\n",
       "3              C123\n",
       "4       C23 C25 C27\n",
       "           ...     \n",
       "1304    C23 C25 C27\n",
       "1305           C105\n",
       "1306    C23 C25 C27\n",
       "1307    C23 C25 C27\n",
       "1308    C23 C25 C27\n",
       "Name: Cabin, Length: 1309, dtype: object"
      ]
     },
     "execution_count": 85,
     "metadata": {},
     "output_type": "execute_result"
    }
   ],
   "source": [
    "# Show Cabin column values for inspection\n",
    "df['Cabin']"
   ]
  },
  {
   "cell_type": "code",
   "execution_count": 89,
   "id": "8187ffaf",
   "metadata": {},
   "outputs": [
    {
     "name": "stdout",
     "output_type": "stream",
     "text": [
      "0    3\n",
      "1    1\n",
      "2    3\n",
      "3    1\n",
      "4    3\n",
      "Name: Cabin, dtype: int64\n"
     ]
    }
   ],
   "source": [
    "# Function to remove duplicate letters from cabin string\n",
    "def remove_duplicate_letters(text):\n",
    "        seen = set()\n",
    "        result = ''\n",
    "        for char in text:\n",
    "            if char not in seen:\n",
    "                seen.add(char)\n",
    "                result += char\n",
    "        return result.strip().replace(' ' , '-')\n",
    "\n",
    "# Splitting cabin column to cell number and cabin letter\n",
    "cell_number_count = df['Cabin'].replace(r'[a-zA-Z]' , '' , regex =True).str.strip().str.split().str.len()\n",
    "print(cell_number_count.head())\n",
    "df['cell_number_count'] = cell_number_count\n",
    "df['Cabin_letter'] = df['Cabin'].replace(r'[0-9]' , '' , regex = True).apply(remove_duplicate_letters)\n",
    "# When removing digits from cabin column values output may be like that (B B B B) so I made a function to remove these duplicated letters"
   ]
  },
  {
   "cell_type": "code",
   "execution_count": 91,
   "id": "db6b80b6",
   "metadata": {},
   "outputs": [
    {
     "data": {
      "text/plain": [
       "array(['C', 'E', 'G', 'D', 'A', 'B', 'F', 'F-G', 'F-E', 'T'], dtype=object)"
      ]
     },
     "execution_count": 91,
     "metadata": {},
     "output_type": "execute_result"
    }
   ],
   "source": [
    "# Show unique cabin letters to check extraction\n",
    "df['Cabin_letter'].unique() "
   ]
  },
  {
   "cell_type": "code",
   "execution_count": 93,
   "id": "d472317a",
   "metadata": {},
   "outputs": [
    {
     "data": {
      "text/plain": [
       "array([3, 1, 2, 0, 4])"
      ]
     },
     "execution_count": 93,
     "metadata": {},
     "output_type": "execute_result"
    }
   ],
   "source": [
    "# Show unique cell numbers to check extraction\n",
    "df['cell_number_count'].unique()"
   ]
  },
  {
   "cell_type": "code",
   "execution_count": 95,
   "id": "a6287a13",
   "metadata": {},
   "outputs": [
    {
     "data": {
      "text/plain": [
       "np.int64(0)"
      ]
     },
     "execution_count": 95,
     "metadata": {},
     "output_type": "execute_result"
    }
   ],
   "source": [
    "# Count missing cell numbers\n",
    "df['cell_number_count'].isna().sum()"
   ]
  },
  {
   "cell_type": "code",
   "execution_count": 96,
   "id": "75b0b1a4",
   "metadata": {},
   "outputs": [],
   "source": [
    "# Drop Cabin column after splitting\n",
    "df.drop('Cabin' , axis =1 , inplace=True)"
   ]
  },
  {
   "cell_type": "code",
   "execution_count": 97,
   "id": "36453469",
   "metadata": {},
   "outputs": [
    {
     "data": {
      "text/html": [
       "<div>\n",
       "<style scoped>\n",
       "    .dataframe tbody tr th:only-of-type {\n",
       "        vertical-align: middle;\n",
       "    }\n",
       "\n",
       "    .dataframe tbody tr th {\n",
       "        vertical-align: top;\n",
       "    }\n",
       "\n",
       "    .dataframe thead th {\n",
       "        text-align: right;\n",
       "    }\n",
       "</style>\n",
       "<table border=\"1\" class=\"dataframe\">\n",
       "  <thead>\n",
       "    <tr style=\"text-align: right;\">\n",
       "      <th></th>\n",
       "      <th>PassengerId</th>\n",
       "      <th>Survived</th>\n",
       "      <th>Pclass</th>\n",
       "      <th>Name</th>\n",
       "      <th>Sex</th>\n",
       "      <th>Age</th>\n",
       "      <th>SibSp</th>\n",
       "      <th>Parch</th>\n",
       "      <th>Ticket</th>\n",
       "      <th>Fare</th>\n",
       "      <th>Embarked</th>\n",
       "      <th>ind</th>\n",
       "      <th>cell_number_count</th>\n",
       "      <th>Cabin_letter</th>\n",
       "    </tr>\n",
       "  </thead>\n",
       "  <tbody>\n",
       "    <tr>\n",
       "      <th>0</th>\n",
       "      <td>1</td>\n",
       "      <td>0.0</td>\n",
       "      <td>3</td>\n",
       "      <td>Braund, Mr. Owen Harris</td>\n",
       "      <td>male</td>\n",
       "      <td>22.0</td>\n",
       "      <td>1</td>\n",
       "      <td>0</td>\n",
       "      <td>A/5 21171</td>\n",
       "      <td>7.2500</td>\n",
       "      <td>S</td>\n",
       "      <td>train</td>\n",
       "      <td>3</td>\n",
       "      <td>C</td>\n",
       "    </tr>\n",
       "    <tr>\n",
       "      <th>1</th>\n",
       "      <td>2</td>\n",
       "      <td>1.0</td>\n",
       "      <td>1</td>\n",
       "      <td>Cumings, Mrs. John Bradley (Florence Briggs Th...</td>\n",
       "      <td>female</td>\n",
       "      <td>38.0</td>\n",
       "      <td>1</td>\n",
       "      <td>0</td>\n",
       "      <td>PC 17599</td>\n",
       "      <td>71.2833</td>\n",
       "      <td>C</td>\n",
       "      <td>train</td>\n",
       "      <td>1</td>\n",
       "      <td>C</td>\n",
       "    </tr>\n",
       "    <tr>\n",
       "      <th>2</th>\n",
       "      <td>3</td>\n",
       "      <td>1.0</td>\n",
       "      <td>3</td>\n",
       "      <td>Heikkinen, Miss. Laina</td>\n",
       "      <td>female</td>\n",
       "      <td>26.0</td>\n",
       "      <td>0</td>\n",
       "      <td>0</td>\n",
       "      <td>STON/O2. 3101282</td>\n",
       "      <td>7.9250</td>\n",
       "      <td>S</td>\n",
       "      <td>train</td>\n",
       "      <td>3</td>\n",
       "      <td>C</td>\n",
       "    </tr>\n",
       "    <tr>\n",
       "      <th>3</th>\n",
       "      <td>4</td>\n",
       "      <td>1.0</td>\n",
       "      <td>1</td>\n",
       "      <td>Futrelle, Mrs. Jacques Heath (Lily May Peel)</td>\n",
       "      <td>female</td>\n",
       "      <td>35.0</td>\n",
       "      <td>1</td>\n",
       "      <td>0</td>\n",
       "      <td>113803</td>\n",
       "      <td>53.1000</td>\n",
       "      <td>S</td>\n",
       "      <td>train</td>\n",
       "      <td>1</td>\n",
       "      <td>C</td>\n",
       "    </tr>\n",
       "    <tr>\n",
       "      <th>4</th>\n",
       "      <td>5</td>\n",
       "      <td>0.0</td>\n",
       "      <td>3</td>\n",
       "      <td>Allen, Mr. William Henry</td>\n",
       "      <td>male</td>\n",
       "      <td>35.0</td>\n",
       "      <td>0</td>\n",
       "      <td>0</td>\n",
       "      <td>373450</td>\n",
       "      <td>8.0500</td>\n",
       "      <td>S</td>\n",
       "      <td>train</td>\n",
       "      <td>3</td>\n",
       "      <td>C</td>\n",
       "    </tr>\n",
       "  </tbody>\n",
       "</table>\n",
       "</div>"
      ],
      "text/plain": [
       "   PassengerId  Survived  Pclass  \\\n",
       "0            1       0.0       3   \n",
       "1            2       1.0       1   \n",
       "2            3       1.0       3   \n",
       "3            4       1.0       1   \n",
       "4            5       0.0       3   \n",
       "\n",
       "                                                Name     Sex   Age  SibSp  \\\n",
       "0                            Braund, Mr. Owen Harris    male  22.0      1   \n",
       "1  Cumings, Mrs. John Bradley (Florence Briggs Th...  female  38.0      1   \n",
       "2                             Heikkinen, Miss. Laina  female  26.0      0   \n",
       "3       Futrelle, Mrs. Jacques Heath (Lily May Peel)  female  35.0      1   \n",
       "4                           Allen, Mr. William Henry    male  35.0      0   \n",
       "\n",
       "   Parch            Ticket     Fare Embarked    ind  cell_number_count  \\\n",
       "0      0         A/5 21171   7.2500        S  train                  3   \n",
       "1      0          PC 17599  71.2833        C  train                  1   \n",
       "2      0  STON/O2. 3101282   7.9250        S  train                  3   \n",
       "3      0            113803  53.1000        S  train                  1   \n",
       "4      0            373450   8.0500        S  train                  3   \n",
       "\n",
       "  Cabin_letter  \n",
       "0            C  \n",
       "1            C  \n",
       "2            C  \n",
       "3            C  \n",
       "4            C  "
      ]
     },
     "execution_count": 97,
     "metadata": {},
     "output_type": "execute_result"
    }
   ],
   "source": [
    "# Show first rows after cabin processing\n",
    "df.head()"
   ]
  },
  {
   "cell_type": "markdown",
   "id": "32472da9",
   "metadata": {},
   "source": [
    "#### Name Feature Engineering\n",
    "\n",
    "Extract family name and title from the Name column, then drop the original Name column."
   ]
  },
  {
   "cell_type": "code",
   "execution_count": 98,
   "id": "43274bab",
   "metadata": {},
   "outputs": [
    {
     "data": {
      "text/plain": [
       "'Braund, Mr. Owen Harris'"
      ]
     },
     "execution_count": 98,
     "metadata": {},
     "output_type": "execute_result"
    }
   ],
   "source": [
    "# Show first name value for inspection\n",
    "df['Name'][0]"
   ]
  },
  {
   "cell_type": "markdown",
   "id": "538f64f4",
   "metadata": {},
   "source": [
    "- Extract family name from the first word and title from the second word in the Name column.\n",
    "- Check for names with brackets, which may indicate maiden names or nicknames."
   ]
  },
  {
   "cell_type": "markdown",
   "id": "879148a8",
   "metadata": {},
   "source": [
    "#### Title Extraction\n",
    "\n",
    "Extract titles from the Name column for further analysis."
   ]
  },
  {
   "cell_type": "code",
   "execution_count": 102,
   "id": "2199e539",
   "metadata": {},
   "outputs": [
    {
     "data": {
      "text/plain": [
       "Name\n",
       "Mr              757\n",
       "Miss            260\n",
       "Mrs             197\n",
       "Master           61\n",
       "Rev               8\n",
       "Dr                8\n",
       "Col               4\n",
       "Major             2\n",
       "Mlle              2\n",
       "Ms                2\n",
       "Mme               1\n",
       "Don               1\n",
       "Sir               1\n",
       "Lady              1\n",
       "Capt              1\n",
       "the Countess      1\n",
       "Jonkheer          1\n",
       "Dona              1\n",
       "Name: count, dtype: int64"
      ]
     },
     "execution_count": 102,
     "metadata": {},
     "output_type": "execute_result"
    }
   ],
   "source": [
    "# Show value counts of titles extracted from Name\n",
    "titles = df['Name'].str.split(r'[,.]').str[1].str.strip()\n",
    "titles.value_counts()"
   ]
  },
  {
   "cell_type": "code",
   "execution_count": 109,
   "id": "caf1968b",
   "metadata": {},
   "outputs": [
    {
     "data": {
      "text/plain": [
       "Name\n",
       "Mr        757\n",
       "Miss      260\n",
       "Mrs       197\n",
       "Master     61\n",
       "Others     34\n",
       "Name: count, dtype: int64"
      ]
     },
     "execution_count": 109,
     "metadata": {},
     "output_type": "execute_result"
    }
   ],
   "source": [
    "# Ok there are many titles so I will combine rare titles in new category called others\n",
    "others = titles.value_counts()[titles.value_counts() < 61]\n",
    "titles = titles.replace(others.index , 'Others') # replace all titles are less than 61\n",
    "\n",
    "titles.value_counts()"
   ]
  },
  {
   "cell_type": "code",
   "execution_count": null,
   "id": "d95d471a",
   "metadata": {},
   "outputs": [],
   "source": [
    "# Extract Title from Name\n",
    "df['Title'] = titles"
   ]
  },
  {
   "cell_type": "markdown",
   "id": "2bc80b16",
   "metadata": {},
   "source": [
    "#### Extracting family size and  is Alone or not"
   ]
  },
  {
   "cell_type": "code",
   "execution_count": null,
   "id": "336620cc",
   "metadata": {},
   "outputs": [],
   "source": [
    "familysize =  df['Parch'] + df['SibSp'] # family size from this feature I will get is alone or not\n",
    "\n",
    "df['FamilySize'] = familysize\n",
    "df['Is Alone'] = (df['FamilySize'] == 0).astype(int) # if family size is 0 that means he/she is alone"
   ]
  },
  {
   "cell_type": "code",
   "execution_count": null,
   "id": "74efcd8f",
   "metadata": {},
   "outputs": [],
   "source": [
    "df.drop('Name' , axis = 1 , inplace=True)"
   ]
  },
  {
   "cell_type": "code",
   "execution_count": null,
   "id": "c9af09b7",
   "metadata": {},
   "outputs": [
    {
     "data": {
      "text/html": [
       "<div>\n",
       "<style scoped>\n",
       "    .dataframe tbody tr th:only-of-type {\n",
       "        vertical-align: middle;\n",
       "    }\n",
       "\n",
       "    .dataframe tbody tr th {\n",
       "        vertical-align: top;\n",
       "    }\n",
       "\n",
       "    .dataframe thead th {\n",
       "        text-align: right;\n",
       "    }\n",
       "</style>\n",
       "<table border=\"1\" class=\"dataframe\">\n",
       "  <thead>\n",
       "    <tr style=\"text-align: right;\">\n",
       "      <th></th>\n",
       "      <th>PassengerId</th>\n",
       "      <th>Survived</th>\n",
       "      <th>Pclass</th>\n",
       "      <th>Sex</th>\n",
       "      <th>Age</th>\n",
       "      <th>SibSp</th>\n",
       "      <th>Parch</th>\n",
       "      <th>Ticket</th>\n",
       "      <th>Fare</th>\n",
       "      <th>Embarked</th>\n",
       "      <th>ind</th>\n",
       "      <th>cell_number</th>\n",
       "      <th>Cabin_letter</th>\n",
       "      <th>Title</th>\n",
       "      <th>FamilySize</th>\n",
       "      <th>Is Alone</th>\n",
       "    </tr>\n",
       "  </thead>\n",
       "  <tbody>\n",
       "    <tr>\n",
       "      <th>0</th>\n",
       "      <td>1</td>\n",
       "      <td>0.0</td>\n",
       "      <td>3</td>\n",
       "      <td>male</td>\n",
       "      <td>22.0</td>\n",
       "      <td>1</td>\n",
       "      <td>0</td>\n",
       "      <td>A/5 21171</td>\n",
       "      <td>7.2500</td>\n",
       "      <td>S</td>\n",
       "      <td>train</td>\n",
       "      <td>23-25-27</td>\n",
       "      <td>C</td>\n",
       "      <td>Mr</td>\n",
       "      <td>1</td>\n",
       "      <td>0</td>\n",
       "    </tr>\n",
       "    <tr>\n",
       "      <th>1</th>\n",
       "      <td>2</td>\n",
       "      <td>1.0</td>\n",
       "      <td>1</td>\n",
       "      <td>female</td>\n",
       "      <td>38.0</td>\n",
       "      <td>1</td>\n",
       "      <td>0</td>\n",
       "      <td>PC 17599</td>\n",
       "      <td>71.2833</td>\n",
       "      <td>C</td>\n",
       "      <td>train</td>\n",
       "      <td>85</td>\n",
       "      <td>C</td>\n",
       "      <td>Mrs</td>\n",
       "      <td>1</td>\n",
       "      <td>0</td>\n",
       "    </tr>\n",
       "    <tr>\n",
       "      <th>2</th>\n",
       "      <td>3</td>\n",
       "      <td>1.0</td>\n",
       "      <td>3</td>\n",
       "      <td>female</td>\n",
       "      <td>26.0</td>\n",
       "      <td>0</td>\n",
       "      <td>0</td>\n",
       "      <td>STON/O2. 3101282</td>\n",
       "      <td>7.9250</td>\n",
       "      <td>S</td>\n",
       "      <td>train</td>\n",
       "      <td>23-25-27</td>\n",
       "      <td>C</td>\n",
       "      <td>Miss</td>\n",
       "      <td>0</td>\n",
       "      <td>1</td>\n",
       "    </tr>\n",
       "    <tr>\n",
       "      <th>3</th>\n",
       "      <td>4</td>\n",
       "      <td>1.0</td>\n",
       "      <td>1</td>\n",
       "      <td>female</td>\n",
       "      <td>35.0</td>\n",
       "      <td>1</td>\n",
       "      <td>0</td>\n",
       "      <td>113803</td>\n",
       "      <td>53.1000</td>\n",
       "      <td>S</td>\n",
       "      <td>train</td>\n",
       "      <td>123</td>\n",
       "      <td>C</td>\n",
       "      <td>Mrs</td>\n",
       "      <td>1</td>\n",
       "      <td>0</td>\n",
       "    </tr>\n",
       "    <tr>\n",
       "      <th>4</th>\n",
       "      <td>5</td>\n",
       "      <td>0.0</td>\n",
       "      <td>3</td>\n",
       "      <td>male</td>\n",
       "      <td>35.0</td>\n",
       "      <td>0</td>\n",
       "      <td>0</td>\n",
       "      <td>373450</td>\n",
       "      <td>8.0500</td>\n",
       "      <td>S</td>\n",
       "      <td>train</td>\n",
       "      <td>23-25-27</td>\n",
       "      <td>C</td>\n",
       "      <td>Mr</td>\n",
       "      <td>0</td>\n",
       "      <td>1</td>\n",
       "    </tr>\n",
       "  </tbody>\n",
       "</table>\n",
       "</div>"
      ],
      "text/plain": [
       "   PassengerId  Survived  Pclass     Sex   Age  SibSp  Parch  \\\n",
       "0            1       0.0       3    male  22.0      1      0   \n",
       "1            2       1.0       1  female  38.0      1      0   \n",
       "2            3       1.0       3  female  26.0      0      0   \n",
       "3            4       1.0       1  female  35.0      1      0   \n",
       "4            5       0.0       3    male  35.0      0      0   \n",
       "\n",
       "             Ticket     Fare Embarked    ind cell_number Cabin_letter Title  \\\n",
       "0         A/5 21171   7.2500        S  train    23-25-27            C    Mr   \n",
       "1          PC 17599  71.2833        C  train          85            C   Mrs   \n",
       "2  STON/O2. 3101282   7.9250        S  train    23-25-27            C  Miss   \n",
       "3            113803  53.1000        S  train         123            C   Mrs   \n",
       "4            373450   8.0500        S  train    23-25-27            C    Mr   \n",
       "\n",
       "   FamilySize  Is Alone  \n",
       "0           1         0  \n",
       "1           1         0  \n",
       "2           0         1  \n",
       "3           1         0  \n",
       "4           0         1  "
      ]
     },
     "execution_count": 64,
     "metadata": {},
     "output_type": "execute_result"
    }
   ],
   "source": [
    "# Show first rows after name processing\n",
    "df.head()"
   ]
  },
  {
   "cell_type": "markdown",
   "id": "6adce2e3",
   "metadata": {},
   "source": [
    "#### Ticket Feature Engineering\n",
    "\n",
    "Extract special agent/route, ticket batch, and shared ticket indicators from the Ticket column."
   ]
  },
  {
   "cell_type": "code",
   "execution_count": null,
   "id": "d725ce35",
   "metadata": {},
   "outputs": [
    {
     "data": {
      "text/plain": [
       "0                [A/5, 21171]\n",
       "1                 [PC, 17599]\n",
       "2         [STON/O2., 3101282]\n",
       "3                    [113803]\n",
       "4                    [373450]\n",
       "                ...          \n",
       "1304             [A.5., 3236]\n",
       "1305              [PC, 17758]\n",
       "1306    [SOTON/O.Q., 3101262]\n",
       "1307                 [359309]\n",
       "1308                   [2668]\n",
       "Name: Ticket, Length: 1309, dtype: object"
      ]
     },
     "execution_count": 65,
     "metadata": {},
     "output_type": "execute_result"
    }
   ],
   "source": [
    "# Split Ticket column for further processing\n",
    "df['Ticket'].str.split()"
   ]
  },
  {
   "cell_type": "code",
   "execution_count": null,
   "id": "cecb434f",
   "metadata": {},
   "outputs": [],
   "source": [
    "# Extract special agent/route from Ticket\n",
    "clean_agents = df['Ticket'].str.extract(r'^([A-Za-z/.]+\\d*)', expand=False).fillna('Non-special').replace('[.]' , '' , regex=True)"
   ]
  },
  {
   "cell_type": "code",
   "execution_count": null,
   "id": "60fc1442",
   "metadata": {},
   "outputs": [
    {
     "data": {
      "text/plain": [
       "array(['A/5', 'PC', 'STON/O2', 'Non-special', 'PP', 'CA', 'SC/Paris',\n",
       "       'SC/A4', 'A/4', 'SP', 'SOC', 'SO/C', 'W/C', 'SOTON/OQ', 'WEP',\n",
       "       'STON/O', 'A4', 'C', 'SC/PARIS', 'SOP', 'A5', 'Fa', 'LINE', 'FCC',\n",
       "       'SW/PP', 'SCO/W', 'P/PP', 'SC', 'SC/AH', 'A/S', 'WE/P', 'SO/PP',\n",
       "       'FC', 'SOTON/O2', 'CA/SOTON', 'SC/A3', 'STON/OQ', 'AQ/4', 'A',\n",
       "       'LP', 'AQ/3'], dtype=object)"
      ]
     },
     "execution_count": 67,
     "metadata": {},
     "output_type": "execute_result"
    }
   ],
   "source": [
    "# Show unique special agent/route values\n",
    "clean_agents.unique()\n",
    "\n",
    "# That's perfect"
   ]
  },
  {
   "cell_type": "code",
   "execution_count": null,
   "id": "1ed8a978",
   "metadata": {},
   "outputs": [],
   "source": [
    "# Add special agent/route column\n",
    "df['Special Agent/route'] = clean_agents "
   ]
  },
  {
   "cell_type": "markdown",
   "id": "d1650c3b",
   "metadata": {},
   "source": [
    "Create a TicketBatch column to indicate early or late ticket batches based on ticket digit length."
   ]
  },
  {
   "cell_type": "code",
   "execution_count": null,
   "id": "b0550489",
   "metadata": {},
   "outputs": [
    {
     "data": {
      "text/plain": [
       "array([5, 7, 6, 4, 3, 1])"
      ]
     },
     "execution_count": 69,
     "metadata": {},
     "output_type": "execute_result"
    }
   ],
   "source": [
    "# Extract ticket digits for batch classification\n",
    "ticket_digits = df['Ticket'].str.split().str[-1]\n",
    "ticket_digits.str.len().unique()"
   ]
  },
  {
   "cell_type": "code",
   "execution_count": null,
   "id": "8aa5f7b6",
   "metadata": {},
   "outputs": [
    {
     "data": {
      "text/plain": [
       "772     3\n",
       "841     3\n",
       "1077    2\n",
       "1193    2\n",
       "Name: Ticket, dtype: object"
      ]
     },
     "execution_count": 70,
     "metadata": {},
     "output_type": "execute_result"
    }
   ],
   "source": [
    "# Show ticket digits with length 1 for correction\n",
    "ticket_digits[ticket_digits.str.len() == 1]"
   ]
  },
  {
   "cell_type": "code",
   "execution_count": null,
   "id": "682e981d",
   "metadata": {},
   "outputs": [
    {
     "data": {
      "text/plain": [
       "array(['S.O./P.P. 3', 'S.O./P.P. 3', 'S.O./P.P. 2', 'S.O./P.P. 2'],\n",
       "      dtype=object)"
      ]
     },
     "execution_count": 71,
     "metadata": {},
     "output_type": "execute_result"
    }
   ],
   "source": [
    "# Get corrected values for tickets with length 1\n",
    "corrected_values = df.iloc[ticket_digits[ticket_digits.str.len() == 1].index]['Ticket'].values\n",
    "corrected_values"
   ]
  },
  {
   "cell_type": "code",
   "execution_count": null,
   "id": "43cda413",
   "metadata": {},
   "outputs": [],
   "source": [
    "# Assign corrected values to ticket_digits\n",
    "ticket_digits[ticket_digits.str.len() == 1] = corrected_values"
   ]
  },
  {
   "cell_type": "code",
   "execution_count": null,
   "id": "b4dda663",
   "metadata": {},
   "outputs": [
    {
     "data": {
      "text/plain": [
       "array([ 5,  7,  6,  4,  3, 11])"
      ]
     },
     "execution_count": 73,
     "metadata": {},
     "output_type": "execute_result"
    }
   ],
   "source": [
    "# Check unique lengths after correction\n",
    "ticket_digits.str.len().unique()"
   ]
  },
  {
   "cell_type": "code",
   "execution_count": null,
   "id": "b777878c",
   "metadata": {},
   "outputs": [
    {
     "data": {
      "text/plain": [
       "array(['21171', '17599', '3101282', '113803', '373450', '330877', '17463',\n",
       "       '349909', '347742', '237736', '9549', '113783', '2151', '347082',\n",
       "       '350406', '248706', '382652', '244373', '345763', '2649', '239865',\n",
       "       '248698', '330923', '113788', '347077', '2631', '19950', '330959',\n",
       "       '349216', '17601', '17569', '335677', '24579', '17604', '113789',\n",
       "       '2677', '2152', '345764', '2651', '7546', '11668', '349253',\n",
       "       '2123', '330958', '23567', '370371', '14311', '2662', '349237',\n",
       "       '3101295', '39886', '17572', '2926', '113509', '19947', '31026',\n",
       "       '2697', '34651', '2144', '2669', '113572', '36973', '347088',\n",
       "       '17605', '2661', '29395', '3464', '3101281', '315151', '33111',\n",
       "       '14879', '2680', '1601', '348123', '349208', '374746', '248738',\n",
       "       '364516', '345767', '345779', '330932', '113059', '14885',\n",
       "       '3101278', '6608', '392086', '343275', '343276', '347466', '5734',\n",
       "       '2315', '364500', '374910', '17754', '17759', '231919', '244367',\n",
       "       '349245', '349215', '35281', '7540', '3101276', '349207', '343120',\n",
       "       '312991', '349249', '371110', '110465', '2665', '324669', '4136',\n",
       "       '2627', '3101294', '370369', '17558', '54510', '27267', '370372',\n",
       "       '17369', '2668', '347061', '349241', '3101307', '3337', '228414',\n",
       "       '29178', '2133', '11752', '7534', '17593', '2678', '347081',\n",
       "       '3101279', '365222', '231945', '33112', '350043', '230080',\n",
       "       '244310', '1166', '113776', '11206', '851', '265302', '17597',\n",
       "       '35851', '392090', '315037', '2343', '371362', '33595', '347068',\n",
       "       '315093', '363291', '113505', '17318', '111240', '3101280',\n",
       "       '17764', '350404', '4133', '17595', '250653', 'LINE', '2131',\n",
       "       '230136', '315153', '113767', '370365', '111428', '364849',\n",
       "       '349247', '234604', '28424', '350046', '17610', '368703', '4579',\n",
       "       '370370', '248747', '345770', '3101264', '2628', '3540', '347054',\n",
       "       '2699', '367231', '112277', '3101311', '13528', '21174', '250646',\n",
       "       '367229', '35273', '3101283', '243847', '11813', '14208', '392089',\n",
       "       '220367', '21440', '349234', '19943', '4348', '751', '21173',\n",
       "       '236171', '347067', '237442', '29566', '6609', '26707', '31921',\n",
       "       '28665', '1585', '367230', '14263', '3101275', '2694', '19928',\n",
       "       '347071', '250649', '11751', '244252', '362316', '113514', '3336',\n",
       "       '370129', '2650', '17585', '110152', '17755', '230433', '384461',\n",
       "       '110413', '112059', '382649', '17248', '347083', '17582', '17760',\n",
       "       '113798', '250644', '17596', '370375', '13502', '347073', '239853',\n",
       "       '2673', '336439', '347464', '345778', '10482', '113056', '349239',\n",
       "       '345774', '349206', '237798', '370373', '19877', '11967', '2163',\n",
       "       '349236', '349233', '17612', '2693', '113781', '19988', '9234',\n",
       "       '367226', '226593', '2466', '17421', '17758', '3381', '17485',\n",
       "       '11767', '17608', '250651', '349243', '13529', '347470', '29011',\n",
       "       '36928', '16966', '21172', '349219', '234818', '345364', '28551',\n",
       "       '111361', '113043', '17611', '349225', '7598', '113784', '248740',\n",
       "       '244361', '229236', '248733', '31418', '386525', '37671', '315088',\n",
       "       '7267', '113510', '2695', '2647', '345783', '237671', '330931',\n",
       "       '330980', '2167', '2691', '3101310', '7076', '110813', '2626',\n",
       "       '14313', '17477', '11765', '3101267', '323951', '7077', '113503',\n",
       "       '2648', '347069', '17757', '2653', '3101293', '349227', '27849',\n",
       "       '367655', '1748', '113760', '350034', '3101277', '350052',\n",
       "       '350407', '28403', '244278', '240929', '3101289', '341826', '4137',\n",
       "       '315096', '28664', '347064', '29106', '312992', '349222', '394140',\n",
       "       '3101269', '343095', '28220', '250652', '28228', '345773',\n",
       "       '349254', '13032', '315082', '347080', '34244', '2003', '250655',\n",
       "       '364851', '392078', '110564', '376564', '3085', '3101274', '13507',\n",
       "       '18723', '345769', '347076', '230434', '65306', '33638', '113794',\n",
       "       '2666', '113786', '65303', '113051', '17453', '2817', '349240',\n",
       "       '13509', '17464', '13531', '371060', '19952', '364506', '111320',\n",
       "       '234360', '2816', '3101306', '113792', '36209', '323592', '315089',\n",
       "       '541', '7553', '31027', '3460', '350060', '3101298', '239854',\n",
       "       '3594', '4134', '11771', '18509', '65304', '3101317', '113787',\n",
       "       '17609', '45380', '36947', '6212', '350035', '315086', '364846',\n",
       "       '330909', '4135', '26360', '111427', '4001', '382651', '3101316',\n",
       "       '17473', '17603', '349209', '36967', '34260', '226875', '349242',\n",
       "       '12749', '349252', '2624', '2700', '367232', '14258', '17483',\n",
       "       '3101296', '29104', '2641', '2690', '315084', '113050', '17761',\n",
       "       '364498', '13568', '5735', '2908', '693', '2146', '244358',\n",
       "       '330979', '2620', '347085', '113807', '11755', '345572', '372622',\n",
       "       '349251', '218629', '392082', '392087', '48871', '349205', '2686',\n",
       "       '350417', '752', '11769', '17474', '14312', '20589', '358585',\n",
       "       '243880', '2689', '3101286', '237789', '13049', '3411', '237565',\n",
       "       '13567', '14973', '3235', '3101273', '3902', '364848', '29037',\n",
       "       '248727', '2664', '349214', '113796', '364511', '111426', '349910',\n",
       "       '349246', '113804', '3101305', '370377', '364512', '220845',\n",
       "       '31028', '2659', '11753', '350029', '54636', '36963', '219533',\n",
       "       '349224', '334912', '27042', '347743', '13214', '112052', '237668',\n",
       "       '3101292', '350050', '349231', '13213', '2314', '349221', '8475',\n",
       "       '330919', '365226', '349223', '29751', '2623', '5727', '349210',\n",
       "       '3101285', '234686', '312993', '3536', '19996', '29750', '12750',\n",
       "       '24580', '244270', '239856', '349912', '342826', '4138', '330935',\n",
       "       '6563', '349228', '350036', '24160', '349256', '2672', '113800',\n",
       "       '248731', '363592', '35852', '348121', '17475', '36864', '350025',\n",
       "       '223596', '17476', '17482', '113028', '7545', '250647', '348124',\n",
       "       '34218', '36568', '347062', '350048', '12233', '250643', '113806',\n",
       "       '315094', '36866', '236853', '3101271', '239855', '28425',\n",
       "       '233639', '349201', '349218', '16988', '376566', '3101288',\n",
       "       '250648', '113773', '335097', '29103', '392096', '345780',\n",
       "       '349204', '350042', '29108', '363294', '3101272', '2663', '347074',\n",
       "       '112379', '364850', '8471', '345781', '350047', 'S.O./P.P. 3',\n",
       "       '2674', '29105', '347078', '383121', '36865', '2687', '113501',\n",
       "       '6607', '3101312', '374887', '3101265', '12460', '17600', '349203',\n",
       "       '28213', '17465', '349244', '2685', '2625', '347089', '347063',\n",
       "       '112050', '347087', '248723', '3474', '28206', '364499', '112058',\n",
       "       '3101290', '2079', '7075', '315098', '19972', '368323', '367228',\n",
       "       '2671', '347468', '2223', '17756', '315097', '392092', '11774',\n",
       "       '3101287', '2683', '315090', '5547', '349213', '347060', '17592',\n",
       "       '392091', '113055', '2629', '350026', '28134', '17466', '233866',\n",
       "       '236852', '2149', '17590', '345777', '349248', '695', '345765',\n",
       "       '2667', '349212', '349217', '349257', '7552', '34068', '392076',\n",
       "       '211536', '112053', '111369', '370376', '330911', '363272',\n",
       "       '240276', '315154', '7538', '330972', '2657', '349220', '694',\n",
       "       '21228', '24065', '233734', '2692', '3101270', '2696', '17368',\n",
       "       '17598', '2698', '113054', '31029', '13236', '2682', '342712',\n",
       "       '315087', '345768', '113778', '3101263', '237249', '3101291',\n",
       "       '17594', '370374', '13695', '2168', '2861', '349230', '348122',\n",
       "       '349232', '237216', '347090', '334914', '13534', '330963', '2543',\n",
       "       '382653', '349211', '3101297', '17562', '359306', '11770',\n",
       "       '248744', '368702', '19924', '349238', '240261', '2660', '330844',\n",
       "       '31416', '364856', '347072', '345498', '376563', '13905', '350033',\n",
       "       '3101268', '347471', '3338', '11778', '365235', '347070', '330920',\n",
       "       '383162', '3410', '248734', '237734', '330968', '17531', '329944',\n",
       "       '2681', '13050', '367227', '392095', '368783', '350045', '211535',\n",
       "       '342441', '369943', '113780', '2621', '349226', '350409', '2656',\n",
       "       '248659', '392083', '23568', '113791', '349255', '3701', '350405',\n",
       "       '347469', '110489', '3101315', '335432', '220844', '343271',\n",
       "       '237393', '17591', '17770', '7548', '251', '2670', '233478',\n",
       "       '7935', '239059', 'S.O./P.P. 2', '48873', '28221', '111163',\n",
       "       '235509', '347465', '347066', '31030', '65305', '34050', '12998',\n",
       "       '9232', '28034', '17613', '349250', '3101308', '347091', '113038',\n",
       "       '330924', '32302', '2148', '342684', '14266', '350053', '17606',\n",
       "       '350054', '370368', '242963', '113795', '3101266', '330971',\n",
       "       '350416', '2679', '250650', '112377', '3470', '3101284', '13508',\n",
       "       '7266', '345775', '42795', '3130', '363611', '28404', '345501',\n",
       "       '350410', '34644', '349235', '112051', '49867', '39186', '315095',\n",
       "       '368573', '2676', '14888', '31352', '14260', '315085', '364859',\n",
       "       '21175', '3101314', '2655', '1478', '17607', '382650', '2652',\n",
       "       '345771', '349202', '113801', '347467', '347079', '237735',\n",
       "       '315092', '383123', '112901', '315091', '2658', '1588', '368364',\n",
       "       '30631', '28004', '350408', '347075', '2654', '244368', '113790',\n",
       "       '3101309', '236854', '17580', '2684', '349229', '110469', '244360',\n",
       "       '2675', '2622', '15185', '350403', '348125', '237670', '2688',\n",
       "       '248726', '13540', '113044', '1222', '368402', '315083', '112378',\n",
       "       '2147', '28133', '248746', '315152', '29107', '680', '366713',\n",
       "       '330910', '2159', '349911', '244346', '364858', '30769', '371109',\n",
       "       '347065', '21332', '17765', '2166', '28666', '334915', '365237',\n",
       "       '347086', '3236', '3101262', '359309'], dtype=object)"
      ]
     },
     "execution_count": 74,
     "metadata": {},
     "output_type": "execute_result"
    }
   ],
   "source": [
    "# Show unique ticket digits\n",
    "ticket_digits.unique()"
   ]
  },
  {
   "cell_type": "code",
   "execution_count": null,
   "id": "04816fc1",
   "metadata": {},
   "outputs": [],
   "source": [
    "# Create TicketBatch column: 1 for early, 0 for late\n",
    "df['TicketBatch'] = np.where(ticket_digits.str.len() < 5 , 1,0)"
   ]
  },
  {
   "cell_type": "markdown",
   "id": "36284a9d",
   "metadata": {},
   "source": [
    "1: Early<br>\n",
    "0: Late"
   ]
  },
  {
   "cell_type": "markdown",
   "id": "480b044f",
   "metadata": {},
   "source": [
    "Create a boolean column called SharedTicket to indicate if a ticket is shared by more than one passenger."
   ]
  },
  {
   "cell_type": "code",
   "execution_count": null,
   "id": "7d7e8a3d",
   "metadata": {},
   "outputs": [],
   "source": [
    "# Create SharedTicket column: 1 if ticket is duplicated, else 0\n",
    "df['SharedTicket'] = np.where(df['Ticket'].duplicated() , 1 , 0)"
   ]
  },
  {
   "cell_type": "code",
   "execution_count": null,
   "id": "0e9351ad",
   "metadata": {},
   "outputs": [
    {
     "data": {
      "text/plain": [
       "0             5\n",
       "1         17599\n",
       "2             2\n",
       "3        113803\n",
       "4        373450\n",
       "         ...   \n",
       "1304          5\n",
       "1305      17758\n",
       "1306    3101262\n",
       "1307     359309\n",
       "1308       2668\n",
       "Name: 0, Length: 1309, dtype: object"
      ]
     },
     "execution_count": 77,
     "metadata": {},
     "output_type": "execute_result"
    }
   ],
   "source": [
    "# Extract first digit from Ticket (not used further)\n",
    "first_digit_ticket = df['Ticket'].str.extract(r'([0-9]+)')[0]\n",
    "first_digit_ticket"
   ]
  },
  {
   "cell_type": "code",
   "execution_count": null,
   "id": "ac6029c1",
   "metadata": {},
   "outputs": [
    {
     "data": {
      "text/plain": [
       "0           A/5 21171\n",
       "1            PC 17599\n",
       "2    STON/O2. 3101282\n",
       "3              113803\n",
       "4              373450\n",
       "Name: Ticket, dtype: object"
      ]
     },
     "execution_count": 78,
     "metadata": {},
     "output_type": "execute_result"
    }
   ],
   "source": [
    "# Show first 5 Ticket values for inspection\n",
    "df['Ticket'].head()"
   ]
  },
  {
   "cell_type": "code",
   "execution_count": null,
   "id": "76671eca",
   "metadata": {},
   "outputs": [],
   "source": [
    "# Drop Ticket column after feature extraction\n",
    "df.drop('Ticket' , axis = 1 , inplace=True)"
   ]
  },
  {
   "cell_type": "code",
   "execution_count": null,
   "id": "48309596",
   "metadata": {},
   "outputs": [
    {
     "data": {
      "text/html": [
       "<div>\n",
       "<style scoped>\n",
       "    .dataframe tbody tr th:only-of-type {\n",
       "        vertical-align: middle;\n",
       "    }\n",
       "\n",
       "    .dataframe tbody tr th {\n",
       "        vertical-align: top;\n",
       "    }\n",
       "\n",
       "    .dataframe thead th {\n",
       "        text-align: right;\n",
       "    }\n",
       "</style>\n",
       "<table border=\"1\" class=\"dataframe\">\n",
       "  <thead>\n",
       "    <tr style=\"text-align: right;\">\n",
       "      <th></th>\n",
       "      <th>PassengerId</th>\n",
       "      <th>Survived</th>\n",
       "      <th>Pclass</th>\n",
       "      <th>Sex</th>\n",
       "      <th>Age</th>\n",
       "      <th>SibSp</th>\n",
       "      <th>Parch</th>\n",
       "      <th>Fare</th>\n",
       "      <th>Embarked</th>\n",
       "      <th>ind</th>\n",
       "      <th>cell_number</th>\n",
       "      <th>Cabin_letter</th>\n",
       "      <th>Title</th>\n",
       "      <th>FamilySize</th>\n",
       "      <th>Is Alone</th>\n",
       "      <th>Special Agent/route</th>\n",
       "      <th>TicketBatch</th>\n",
       "      <th>SharedTicket</th>\n",
       "    </tr>\n",
       "  </thead>\n",
       "  <tbody>\n",
       "    <tr>\n",
       "      <th>608</th>\n",
       "      <td>609</td>\n",
       "      <td>1.0</td>\n",
       "      <td>2</td>\n",
       "      <td>female</td>\n",
       "      <td>22.000000</td>\n",
       "      <td>1</td>\n",
       "      <td>2</td>\n",
       "      <td>41.5792</td>\n",
       "      <td>C</td>\n",
       "      <td>train</td>\n",
       "      <td>23-25-27</td>\n",
       "      <td>C</td>\n",
       "      <td>Mrs</td>\n",
       "      <td>3</td>\n",
       "      <td>0</td>\n",
       "      <td>SC/Paris</td>\n",
       "      <td>1</td>\n",
       "      <td>1</td>\n",
       "    </tr>\n",
       "    <tr>\n",
       "      <th>746</th>\n",
       "      <td>747</td>\n",
       "      <td>0.0</td>\n",
       "      <td>3</td>\n",
       "      <td>male</td>\n",
       "      <td>16.000000</td>\n",
       "      <td>1</td>\n",
       "      <td>1</td>\n",
       "      <td>20.2500</td>\n",
       "      <td>S</td>\n",
       "      <td>train</td>\n",
       "      <td>23-25-27</td>\n",
       "      <td>C</td>\n",
       "      <td>Mr</td>\n",
       "      <td>2</td>\n",
       "      <td>0</td>\n",
       "      <td>CA</td>\n",
       "      <td>1</td>\n",
       "      <td>1</td>\n",
       "    </tr>\n",
       "    <tr>\n",
       "      <th>556</th>\n",
       "      <td>557</td>\n",
       "      <td>1.0</td>\n",
       "      <td>1</td>\n",
       "      <td>female</td>\n",
       "      <td>48.000000</td>\n",
       "      <td>1</td>\n",
       "      <td>0</td>\n",
       "      <td>39.6000</td>\n",
       "      <td>C</td>\n",
       "      <td>train</td>\n",
       "      <td>16</td>\n",
       "      <td>A</td>\n",
       "      <td>Lady</td>\n",
       "      <td>1</td>\n",
       "      <td>0</td>\n",
       "      <td>Non-special</td>\n",
       "      <td>0</td>\n",
       "      <td>0</td>\n",
       "    </tr>\n",
       "    <tr>\n",
       "      <th>666</th>\n",
       "      <td>667</td>\n",
       "      <td>0.0</td>\n",
       "      <td>2</td>\n",
       "      <td>male</td>\n",
       "      <td>25.000000</td>\n",
       "      <td>0</td>\n",
       "      <td>0</td>\n",
       "      <td>13.0000</td>\n",
       "      <td>S</td>\n",
       "      <td>train</td>\n",
       "      <td>23-25-27</td>\n",
       "      <td>C</td>\n",
       "      <td>Mr</td>\n",
       "      <td>0</td>\n",
       "      <td>1</td>\n",
       "      <td>Non-special</td>\n",
       "      <td>0</td>\n",
       "      <td>0</td>\n",
       "    </tr>\n",
       "    <tr>\n",
       "      <th>81</th>\n",
       "      <td>82</td>\n",
       "      <td>1.0</td>\n",
       "      <td>3</td>\n",
       "      <td>male</td>\n",
       "      <td>29.000000</td>\n",
       "      <td>0</td>\n",
       "      <td>0</td>\n",
       "      <td>9.5000</td>\n",
       "      <td>S</td>\n",
       "      <td>train</td>\n",
       "      <td>23-25-27</td>\n",
       "      <td>C</td>\n",
       "      <td>Mr</td>\n",
       "      <td>0</td>\n",
       "      <td>1</td>\n",
       "      <td>Non-special</td>\n",
       "      <td>0</td>\n",
       "      <td>0</td>\n",
       "    </tr>\n",
       "    <tr>\n",
       "      <th>219</th>\n",
       "      <td>220</td>\n",
       "      <td>0.0</td>\n",
       "      <td>2</td>\n",
       "      <td>male</td>\n",
       "      <td>30.000000</td>\n",
       "      <td>0</td>\n",
       "      <td>0</td>\n",
       "      <td>10.5000</td>\n",
       "      <td>S</td>\n",
       "      <td>train</td>\n",
       "      <td>23-25-27</td>\n",
       "      <td>C</td>\n",
       "      <td>Mr</td>\n",
       "      <td>0</td>\n",
       "      <td>1</td>\n",
       "      <td>W/C</td>\n",
       "      <td>0</td>\n",
       "      <td>0</td>\n",
       "    </tr>\n",
       "    <tr>\n",
       "      <th>1042</th>\n",
       "      <td>1043</td>\n",
       "      <td>NaN</td>\n",
       "      <td>3</td>\n",
       "      <td>male</td>\n",
       "      <td>29.881138</td>\n",
       "      <td>0</td>\n",
       "      <td>0</td>\n",
       "      <td>7.8958</td>\n",
       "      <td>C</td>\n",
       "      <td>test</td>\n",
       "      <td>23-25-27</td>\n",
       "      <td>C</td>\n",
       "      <td>Mr</td>\n",
       "      <td>0</td>\n",
       "      <td>1</td>\n",
       "      <td>Non-special</td>\n",
       "      <td>0</td>\n",
       "      <td>0</td>\n",
       "    </tr>\n",
       "    <tr>\n",
       "      <th>1022</th>\n",
       "      <td>1023</td>\n",
       "      <td>NaN</td>\n",
       "      <td>1</td>\n",
       "      <td>male</td>\n",
       "      <td>53.000000</td>\n",
       "      <td>0</td>\n",
       "      <td>0</td>\n",
       "      <td>28.5000</td>\n",
       "      <td>C</td>\n",
       "      <td>test</td>\n",
       "      <td>51</td>\n",
       "      <td>C</td>\n",
       "      <td>Col</td>\n",
       "      <td>0</td>\n",
       "      <td>1</td>\n",
       "      <td>Non-special</td>\n",
       "      <td>0</td>\n",
       "      <td>0</td>\n",
       "    </tr>\n",
       "    <tr>\n",
       "      <th>944</th>\n",
       "      <td>945</td>\n",
       "      <td>NaN</td>\n",
       "      <td>1</td>\n",
       "      <td>female</td>\n",
       "      <td>28.000000</td>\n",
       "      <td>3</td>\n",
       "      <td>2</td>\n",
       "      <td>263.0000</td>\n",
       "      <td>S</td>\n",
       "      <td>test</td>\n",
       "      <td>23-25-27</td>\n",
       "      <td>C</td>\n",
       "      <td>Miss</td>\n",
       "      <td>5</td>\n",
       "      <td>0</td>\n",
       "      <td>Non-special</td>\n",
       "      <td>0</td>\n",
       "      <td>1</td>\n",
       "    </tr>\n",
       "    <tr>\n",
       "      <th>586</th>\n",
       "      <td>587</td>\n",
       "      <td>0.0</td>\n",
       "      <td>2</td>\n",
       "      <td>male</td>\n",
       "      <td>47.000000</td>\n",
       "      <td>0</td>\n",
       "      <td>0</td>\n",
       "      <td>15.0000</td>\n",
       "      <td>S</td>\n",
       "      <td>train</td>\n",
       "      <td>23-25-27</td>\n",
       "      <td>C</td>\n",
       "      <td>Mr</td>\n",
       "      <td>0</td>\n",
       "      <td>1</td>\n",
       "      <td>Non-special</td>\n",
       "      <td>0</td>\n",
       "      <td>0</td>\n",
       "    </tr>\n",
       "  </tbody>\n",
       "</table>\n",
       "</div>"
      ],
      "text/plain": [
       "      PassengerId  Survived  Pclass     Sex        Age  SibSp  Parch  \\\n",
       "608           609       1.0       2  female  22.000000      1      2   \n",
       "746           747       0.0       3    male  16.000000      1      1   \n",
       "556           557       1.0       1  female  48.000000      1      0   \n",
       "666           667       0.0       2    male  25.000000      0      0   \n",
       "81             82       1.0       3    male  29.000000      0      0   \n",
       "219           220       0.0       2    male  30.000000      0      0   \n",
       "1042         1043       NaN       3    male  29.881138      0      0   \n",
       "1022         1023       NaN       1    male  53.000000      0      0   \n",
       "944           945       NaN       1  female  28.000000      3      2   \n",
       "586           587       0.0       2    male  47.000000      0      0   \n",
       "\n",
       "          Fare Embarked    ind cell_number Cabin_letter Title  FamilySize  \\\n",
       "608    41.5792        C  train    23-25-27            C   Mrs           3   \n",
       "746    20.2500        S  train    23-25-27            C    Mr           2   \n",
       "556    39.6000        C  train          16            A  Lady           1   \n",
       "666    13.0000        S  train    23-25-27            C    Mr           0   \n",
       "81      9.5000        S  train    23-25-27            C    Mr           0   \n",
       "219    10.5000        S  train    23-25-27            C    Mr           0   \n",
       "1042    7.8958        C   test    23-25-27            C    Mr           0   \n",
       "1022   28.5000        C   test          51            C   Col           0   \n",
       "944   263.0000        S   test    23-25-27            C  Miss           5   \n",
       "586    15.0000        S  train    23-25-27            C    Mr           0   \n",
       "\n",
       "      Is Alone Special Agent/route  TicketBatch  SharedTicket  \n",
       "608          0            SC/Paris            1             1  \n",
       "746          0                  CA            1             1  \n",
       "556          0         Non-special            0             0  \n",
       "666          1         Non-special            0             0  \n",
       "81           1         Non-special            0             0  \n",
       "219          1                 W/C            0             0  \n",
       "1042         1         Non-special            0             0  \n",
       "1022         1         Non-special            0             0  \n",
       "944          0         Non-special            0             1  \n",
       "586          1         Non-special            0             0  "
      ]
     },
     "execution_count": 80,
     "metadata": {},
     "output_type": "execute_result"
    }
   ],
   "source": [
    "# Show random sample of dataframe to inspect new features\n",
    "df.sample(10)"
   ]
  },
  {
   "cell_type": "code",
   "execution_count": null,
   "id": "952c1fbf",
   "metadata": {},
   "outputs": [
    {
     "name": "stdout",
     "output_type": "stream",
     "text": [
      "<class 'pandas.core.frame.DataFrame'>\n",
      "RangeIndex: 1309 entries, 0 to 1308\n",
      "Data columns (total 18 columns):\n",
      " #   Column               Non-Null Count  Dtype  \n",
      "---  ------               --------------  -----  \n",
      " 0   PassengerId          1309 non-null   int64  \n",
      " 1   Survived             891 non-null    float64\n",
      " 2   Pclass               1309 non-null   int64  \n",
      " 3   Sex                  1309 non-null   object \n",
      " 4   Age                  1309 non-null   float64\n",
      " 5   SibSp                1309 non-null   int64  \n",
      " 6   Parch                1309 non-null   int64  \n",
      " 7   Fare                 1309 non-null   float64\n",
      " 8   Embarked             1307 non-null   object \n",
      " 9   ind                  1309 non-null   object \n",
      " 10  cell_number          1309 non-null   object \n",
      " 11  Cabin_letter         1309 non-null   object \n",
      " 12  Title                1309 non-null   object \n",
      " 13  FamilySize           1309 non-null   int64  \n",
      " 14  Is Alone             1309 non-null   int64  \n",
      " 15  Special Agent/route  1309 non-null   object \n",
      " 16  TicketBatch          1309 non-null   int64  \n",
      " 17  SharedTicket         1309 non-null   int64  \n",
      "dtypes: float64(3), int64(8), object(7)\n",
      "memory usage: 184.2+ KB\n"
     ]
    }
   ],
   "source": [
    "# Show dataframe info to check new columns\n",
    "df.info()"
   ]
  },
  {
   "cell_type": "code",
   "execution_count": null,
   "id": "c95753fc",
   "metadata": {},
   "outputs": [],
   "source": [
    "# Save the processed dataframe with new features\n",
    "df.to_csv('E:\\Data science\\Titanic dataset\\data\\Processed data\\Data Analysis\\processed_data.csv' , index=False)"
   ]
  },
  {
   "cell_type": "markdown",
   "id": "6618f479",
   "metadata": {},
   "source": [
    "#### Summary\n",
    "\n",
    "- Cabin, Name, and Ticket columns have been split into more informative features.\n",
    "- The processed data is now ready for further analysis or modeling."
   ]
  }
 ],
 "metadata": {
  "kernelspec": {
   "display_name": "venv",
   "language": "python",
   "name": "python3"
  },
  "language_info": {
   "codemirror_mode": {
    "name": "ipython",
    "version": 3
   },
   "file_extension": ".py",
   "mimetype": "text/x-python",
   "name": "python",
   "nbconvert_exporter": "python",
   "pygments_lexer": "ipython3",
   "version": "3.13.3"
  }
 },
 "nbformat": 4,
 "nbformat_minor": 5
}
