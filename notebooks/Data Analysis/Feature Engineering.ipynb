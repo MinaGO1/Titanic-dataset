{
 "cells": [
  {
   "cell_type": "code",
   "execution_count": 1,
   "id": "e69aafec",
   "metadata": {},
   "outputs": [
    {
     "name": "stderr",
     "output_type": "stream",
     "text": [
      "<>:8: SyntaxWarning: invalid escape sequence '\\D'\n",
      "<>:8: SyntaxWarning: invalid escape sequence '\\D'\n",
      "C:\\Users\\MinaAlber\\AppData\\Local\\Temp\\ipykernel_1384\\369161819.py:8: SyntaxWarning: invalid escape sequence '\\D'\n",
      "  df = pd.read_csv('E:\\Data science\\Titanic dataset\\data\\Processed data\\Data Analysis\\cleaned data.csv')\n"
     ]
    }
   ],
   "source": [
    "# Import needed libraries\n",
    "import sys\n",
    "notebook_path = sys.path.append(r'e:\\Data science\\Titanic dataset\\notebooks')\n",
    "\n",
    "from auto_imports import *\n",
    "\n",
    "\n",
    "df = pd.read_csv('E:\\Data science\\Titanic dataset\\data\\Processed data\\Data Analysis\\cleaned data.csv')"
   ]
  },
  {
   "cell_type": "markdown",
   "id": "f6a4df38",
   "metadata": {},
   "source": [
    "### Feature engineering"
   ]
  },
  {
   "cell_type": "code",
   "execution_count": 2,
   "id": "a4399dd0",
   "metadata": {},
   "outputs": [
    {
     "data": {
      "text/html": [
       "<div>\n",
       "<style scoped>\n",
       "    .dataframe tbody tr th:only-of-type {\n",
       "        vertical-align: middle;\n",
       "    }\n",
       "\n",
       "    .dataframe tbody tr th {\n",
       "        vertical-align: top;\n",
       "    }\n",
       "\n",
       "    .dataframe thead th {\n",
       "        text-align: right;\n",
       "    }\n",
       "</style>\n",
       "<table border=\"1\" class=\"dataframe\">\n",
       "  <thead>\n",
       "    <tr style=\"text-align: right;\">\n",
       "      <th></th>\n",
       "      <th>PassengerId</th>\n",
       "      <th>Survived</th>\n",
       "      <th>Pclass</th>\n",
       "      <th>Name</th>\n",
       "      <th>Sex</th>\n",
       "      <th>Age</th>\n",
       "      <th>SibSp</th>\n",
       "      <th>Parch</th>\n",
       "      <th>Ticket</th>\n",
       "      <th>Fare</th>\n",
       "      <th>Cabin</th>\n",
       "      <th>Embarked</th>\n",
       "      <th>ind</th>\n",
       "    </tr>\n",
       "  </thead>\n",
       "  <tbody>\n",
       "    <tr>\n",
       "      <th>0</th>\n",
       "      <td>1</td>\n",
       "      <td>0.0</td>\n",
       "      <td>3</td>\n",
       "      <td>Braund, Mr. Owen Harris</td>\n",
       "      <td>male</td>\n",
       "      <td>22.0</td>\n",
       "      <td>1</td>\n",
       "      <td>0</td>\n",
       "      <td>A/5 21171</td>\n",
       "      <td>7.2500</td>\n",
       "      <td>C23 C25 C27</td>\n",
       "      <td>S</td>\n",
       "      <td>train</td>\n",
       "    </tr>\n",
       "    <tr>\n",
       "      <th>1</th>\n",
       "      <td>2</td>\n",
       "      <td>1.0</td>\n",
       "      <td>1</td>\n",
       "      <td>Cumings, Mrs. John Bradley (Florence Briggs Th...</td>\n",
       "      <td>female</td>\n",
       "      <td>38.0</td>\n",
       "      <td>1</td>\n",
       "      <td>0</td>\n",
       "      <td>PC 17599</td>\n",
       "      <td>71.2833</td>\n",
       "      <td>C85</td>\n",
       "      <td>C</td>\n",
       "      <td>train</td>\n",
       "    </tr>\n",
       "    <tr>\n",
       "      <th>2</th>\n",
       "      <td>3</td>\n",
       "      <td>1.0</td>\n",
       "      <td>3</td>\n",
       "      <td>Heikkinen, Miss. Laina</td>\n",
       "      <td>female</td>\n",
       "      <td>26.0</td>\n",
       "      <td>0</td>\n",
       "      <td>0</td>\n",
       "      <td>STON/O2. 3101282</td>\n",
       "      <td>7.9250</td>\n",
       "      <td>C23 C25 C27</td>\n",
       "      <td>S</td>\n",
       "      <td>train</td>\n",
       "    </tr>\n",
       "    <tr>\n",
       "      <th>3</th>\n",
       "      <td>4</td>\n",
       "      <td>1.0</td>\n",
       "      <td>1</td>\n",
       "      <td>Futrelle, Mrs. Jacques Heath (Lily May Peel)</td>\n",
       "      <td>female</td>\n",
       "      <td>35.0</td>\n",
       "      <td>1</td>\n",
       "      <td>0</td>\n",
       "      <td>113803</td>\n",
       "      <td>53.1000</td>\n",
       "      <td>C123</td>\n",
       "      <td>S</td>\n",
       "      <td>train</td>\n",
       "    </tr>\n",
       "    <tr>\n",
       "      <th>4</th>\n",
       "      <td>5</td>\n",
       "      <td>0.0</td>\n",
       "      <td>3</td>\n",
       "      <td>Allen, Mr. William Henry</td>\n",
       "      <td>male</td>\n",
       "      <td>35.0</td>\n",
       "      <td>0</td>\n",
       "      <td>0</td>\n",
       "      <td>373450</td>\n",
       "      <td>8.0500</td>\n",
       "      <td>C23 C25 C27</td>\n",
       "      <td>S</td>\n",
       "      <td>train</td>\n",
       "    </tr>\n",
       "  </tbody>\n",
       "</table>\n",
       "</div>"
      ],
      "text/plain": [
       "   PassengerId  Survived  Pclass  \\\n",
       "0            1       0.0       3   \n",
       "1            2       1.0       1   \n",
       "2            3       1.0       3   \n",
       "3            4       1.0       1   \n",
       "4            5       0.0       3   \n",
       "\n",
       "                                                Name     Sex   Age  SibSp  \\\n",
       "0                            Braund, Mr. Owen Harris    male  22.0      1   \n",
       "1  Cumings, Mrs. John Bradley (Florence Briggs Th...  female  38.0      1   \n",
       "2                             Heikkinen, Miss. Laina  female  26.0      0   \n",
       "3       Futrelle, Mrs. Jacques Heath (Lily May Peel)  female  35.0      1   \n",
       "4                           Allen, Mr. William Henry    male  35.0      0   \n",
       "\n",
       "   Parch            Ticket     Fare        Cabin Embarked    ind  \n",
       "0      0         A/5 21171   7.2500  C23 C25 C27        S  train  \n",
       "1      0          PC 17599  71.2833          C85        C  train  \n",
       "2      0  STON/O2. 3101282   7.9250  C23 C25 C27        S  train  \n",
       "3      0            113803  53.1000         C123        S  train  \n",
       "4      0            373450   8.0500  C23 C25 C27        S  train  "
      ]
     },
     "execution_count": 2,
     "metadata": {},
     "output_type": "execute_result"
    }
   ],
   "source": [
    "# Show first rows of dataframe\n",
    "df.head()"
   ]
  },
  {
   "cell_type": "markdown",
   "id": "cebb25b5",
   "metadata": {},
   "source": [
    "split cabin column to cabin cell and cabin number"
   ]
  },
  {
   "cell_type": "code",
   "execution_count": 3,
   "id": "685d3496",
   "metadata": {},
   "outputs": [
    {
     "data": {
      "text/plain": [
       "0       C23 C25 C27\n",
       "1               C85\n",
       "2       C23 C25 C27\n",
       "3              C123\n",
       "4       C23 C25 C27\n",
       "           ...     \n",
       "1281    C23 C25 C27\n",
       "1282           C105\n",
       "1283    C23 C25 C27\n",
       "1284    C23 C25 C27\n",
       "1285    C23 C25 C27\n",
       "Name: Cabin, Length: 1286, dtype: object"
      ]
     },
     "execution_count": 3,
     "metadata": {},
     "output_type": "execute_result"
    }
   ],
   "source": [
    "# Show Cabin column values\n",
    "df['Cabin']"
   ]
  },
  {
   "cell_type": "code",
   "execution_count": 4,
   "id": "8187ffaf",
   "metadata": {},
   "outputs": [],
   "source": [
    "def remove_duplicate_letters(text):\n",
    "        seen = set()\n",
    "        result = ''\n",
    "        for char in text:\n",
    "            if char not in seen:\n",
    "                seen.add(char)\n",
    "                result += char\n",
    "        return result.strip().replace(' ' , '-')\n",
    "\n",
    "# splitting cabin column to cabin and cell number \n",
    "df['cell_number'] = df['Cabin'].replace(r'[a-zA-Z]' , '' , regex =True).str.strip().str.replace(' ' , '-')\n",
    "df.drop(df[df['cell_number'] == ''].index , inplace=True)\n",
    "df['Cabin_letter'] = df['Cabin'].replace(r'[0-9]' , '' , regex = True).apply(remove_duplicate_letters)\n",
    "# When removing digits from cabin column values output may be like that (B B B B) so I maked a function to remove this duplicted letters"
   ]
  },
  {
   "cell_type": "code",
   "execution_count": 5,
   "id": "db6b80b6",
   "metadata": {},
   "outputs": [
    {
     "data": {
      "text/plain": [
       "array(['C', 'E', 'G', 'D', 'A', 'B', 'F', 'F-G', 'F-E'], dtype=object)"
      ]
     },
     "execution_count": 5,
     "metadata": {},
     "output_type": "execute_result"
    }
   ],
   "source": [
    "# Show unique cabin letters\n",
    "df['Cabin_letter'].unique()"
   ]
  },
  {
   "cell_type": "code",
   "execution_count": 6,
   "id": "d472317a",
   "metadata": {},
   "outputs": [
    {
     "data": {
      "text/plain": [
       "array(['23-25-27', '85', '123', '46', '6', '103', '56', '78', '33', '30',\n",
       "       '52', '83', '73', '31', '5', '10-12', '26', '110', '58-60', '101',\n",
       "       '69', '47', '86', '2', '19', '7', '49', '4', '32', '80', '36',\n",
       "       '15', '93', '35', '87', '77', '67', '94', '125', '99', '118',\n",
       "       '22-26', '106', '65', '54', '57-59-63-66', '34', '18', '124', '91',\n",
       "       '40', '128', '37', '50', '82', '96-98', '44', '104', '111', '92',\n",
       "       '38', '21', '12', '63', '14', '20', '79', '25', '95', '39', '22',\n",
       "       '70', '16', '68', '10', '41', '9', '23', '48', '58', '126', '71',\n",
       "       '51-53-55', '62-64', '24', '90', '45', '8', '121', '11', '3',\n",
       "       '82-84', '17', '102', '28', '42', '148', '61', '53', '43', '130',\n",
       "       '132', '55-57', '116', '29', '51', '97', '89', '57', '60', '39-41',\n",
       "       '52-54-56', '105'], dtype=object)"
      ]
     },
     "execution_count": 6,
     "metadata": {},
     "output_type": "execute_result"
    }
   ],
   "source": [
    "# Show unique cell numbers\n",
    "df['cell_number'].unique()"
   ]
  },
  {
   "cell_type": "code",
   "execution_count": 7,
   "id": "a6287a13",
   "metadata": {},
   "outputs": [
    {
     "data": {
      "text/plain": [
       "np.int64(0)"
      ]
     },
     "execution_count": 7,
     "metadata": {},
     "output_type": "execute_result"
    }
   ],
   "source": [
    "# Count missing cell numbers\n",
    "df['cell_number'].isna().sum()"
   ]
  },
  {
   "cell_type": "code",
   "execution_count": 8,
   "id": "75b0b1a4",
   "metadata": {},
   "outputs": [],
   "source": [
    "# Drop Cabin column after splitting\n",
    "df.drop('Cabin' , axis =1 , inplace=True)"
   ]
  },
  {
   "cell_type": "code",
   "execution_count": 9,
   "id": "36453469",
   "metadata": {},
   "outputs": [
    {
     "data": {
      "text/html": [
       "<div>\n",
       "<style scoped>\n",
       "    .dataframe tbody tr th:only-of-type {\n",
       "        vertical-align: middle;\n",
       "    }\n",
       "\n",
       "    .dataframe tbody tr th {\n",
       "        vertical-align: top;\n",
       "    }\n",
       "\n",
       "    .dataframe thead th {\n",
       "        text-align: right;\n",
       "    }\n",
       "</style>\n",
       "<table border=\"1\" class=\"dataframe\">\n",
       "  <thead>\n",
       "    <tr style=\"text-align: right;\">\n",
       "      <th></th>\n",
       "      <th>PassengerId</th>\n",
       "      <th>Survived</th>\n",
       "      <th>Pclass</th>\n",
       "      <th>Name</th>\n",
       "      <th>Sex</th>\n",
       "      <th>Age</th>\n",
       "      <th>SibSp</th>\n",
       "      <th>Parch</th>\n",
       "      <th>Ticket</th>\n",
       "      <th>Fare</th>\n",
       "      <th>Embarked</th>\n",
       "      <th>ind</th>\n",
       "      <th>cell_number</th>\n",
       "      <th>Cabin_letter</th>\n",
       "    </tr>\n",
       "  </thead>\n",
       "  <tbody>\n",
       "    <tr>\n",
       "      <th>0</th>\n",
       "      <td>1</td>\n",
       "      <td>0.0</td>\n",
       "      <td>3</td>\n",
       "      <td>Braund, Mr. Owen Harris</td>\n",
       "      <td>male</td>\n",
       "      <td>22.0</td>\n",
       "      <td>1</td>\n",
       "      <td>0</td>\n",
       "      <td>A/5 21171</td>\n",
       "      <td>7.2500</td>\n",
       "      <td>S</td>\n",
       "      <td>train</td>\n",
       "      <td>23-25-27</td>\n",
       "      <td>C</td>\n",
       "    </tr>\n",
       "    <tr>\n",
       "      <th>1</th>\n",
       "      <td>2</td>\n",
       "      <td>1.0</td>\n",
       "      <td>1</td>\n",
       "      <td>Cumings, Mrs. John Bradley (Florence Briggs Th...</td>\n",
       "      <td>female</td>\n",
       "      <td>38.0</td>\n",
       "      <td>1</td>\n",
       "      <td>0</td>\n",
       "      <td>PC 17599</td>\n",
       "      <td>71.2833</td>\n",
       "      <td>C</td>\n",
       "      <td>train</td>\n",
       "      <td>85</td>\n",
       "      <td>C</td>\n",
       "    </tr>\n",
       "    <tr>\n",
       "      <th>2</th>\n",
       "      <td>3</td>\n",
       "      <td>1.0</td>\n",
       "      <td>3</td>\n",
       "      <td>Heikkinen, Miss. Laina</td>\n",
       "      <td>female</td>\n",
       "      <td>26.0</td>\n",
       "      <td>0</td>\n",
       "      <td>0</td>\n",
       "      <td>STON/O2. 3101282</td>\n",
       "      <td>7.9250</td>\n",
       "      <td>S</td>\n",
       "      <td>train</td>\n",
       "      <td>23-25-27</td>\n",
       "      <td>C</td>\n",
       "    </tr>\n",
       "    <tr>\n",
       "      <th>3</th>\n",
       "      <td>4</td>\n",
       "      <td>1.0</td>\n",
       "      <td>1</td>\n",
       "      <td>Futrelle, Mrs. Jacques Heath (Lily May Peel)</td>\n",
       "      <td>female</td>\n",
       "      <td>35.0</td>\n",
       "      <td>1</td>\n",
       "      <td>0</td>\n",
       "      <td>113803</td>\n",
       "      <td>53.1000</td>\n",
       "      <td>S</td>\n",
       "      <td>train</td>\n",
       "      <td>123</td>\n",
       "      <td>C</td>\n",
       "    </tr>\n",
       "    <tr>\n",
       "      <th>4</th>\n",
       "      <td>5</td>\n",
       "      <td>0.0</td>\n",
       "      <td>3</td>\n",
       "      <td>Allen, Mr. William Henry</td>\n",
       "      <td>male</td>\n",
       "      <td>35.0</td>\n",
       "      <td>0</td>\n",
       "      <td>0</td>\n",
       "      <td>373450</td>\n",
       "      <td>8.0500</td>\n",
       "      <td>S</td>\n",
       "      <td>train</td>\n",
       "      <td>23-25-27</td>\n",
       "      <td>C</td>\n",
       "    </tr>\n",
       "  </tbody>\n",
       "</table>\n",
       "</div>"
      ],
      "text/plain": [
       "   PassengerId  Survived  Pclass  \\\n",
       "0            1       0.0       3   \n",
       "1            2       1.0       1   \n",
       "2            3       1.0       3   \n",
       "3            4       1.0       1   \n",
       "4            5       0.0       3   \n",
       "\n",
       "                                                Name     Sex   Age  SibSp  \\\n",
       "0                            Braund, Mr. Owen Harris    male  22.0      1   \n",
       "1  Cumings, Mrs. John Bradley (Florence Briggs Th...  female  38.0      1   \n",
       "2                             Heikkinen, Miss. Laina  female  26.0      0   \n",
       "3       Futrelle, Mrs. Jacques Heath (Lily May Peel)  female  35.0      1   \n",
       "4                           Allen, Mr. William Henry    male  35.0      0   \n",
       "\n",
       "   Parch            Ticket     Fare Embarked    ind cell_number Cabin_letter  \n",
       "0      0         A/5 21171   7.2500        S  train    23-25-27            C  \n",
       "1      0          PC 17599  71.2833        C  train          85            C  \n",
       "2      0  STON/O2. 3101282   7.9250        S  train    23-25-27            C  \n",
       "3      0            113803  53.1000        S  train         123            C  \n",
       "4      0            373450   8.0500        S  train    23-25-27            C  "
      ]
     },
     "execution_count": 9,
     "metadata": {},
     "output_type": "execute_result"
    }
   ],
   "source": [
    "# Show first rows after cabin processing\n",
    "df.head()"
   ]
  },
  {
   "cell_type": "markdown",
   "id": "32472da9",
   "metadata": {},
   "source": [
    "I want to extract some important information from name column. Then I will drop it"
   ]
  },
  {
   "cell_type": "code",
   "execution_count": 10,
   "id": "43274bab",
   "metadata": {},
   "outputs": [
    {
     "data": {
      "text/plain": [
       "'Braund, Mr. Owen Harris'"
      ]
     },
     "execution_count": 10,
     "metadata": {},
     "output_type": "execute_result"
    }
   ],
   "source": [
    "# Show first name value\n",
    "df['Name'][0]"
   ]
  },
  {
   "cell_type": "markdown",
   "id": "538f64f4",
   "metadata": {},
   "source": [
    "- I will extract family name from the first word and title from the second word \n",
    "> Last thing I want to see names have a brackets. What do brackets refer to?"
   ]
  },
  {
   "cell_type": "markdown",
   "id": "879148a8",
   "metadata": {},
   "source": [
    "Now let's titles"
   ]
  },
  {
   "cell_type": "code",
   "execution_count": 11,
   "id": "2199e539",
   "metadata": {},
   "outputs": [
    {
     "data": {
      "text/plain": [
       "Name\n",
       "Mr              734\n",
       "Miss            259\n",
       "Mrs             194\n",
       "Master           60\n",
       "Rev               8\n",
       "Dr                8\n",
       "Col               4\n",
       "Major             2\n",
       "Ms                2\n",
       "Mlle              2\n",
       "Don               1\n",
       "Mme               1\n",
       "Lady              1\n",
       "Capt              1\n",
       "the Countess      1\n",
       "Jonkheer          1\n",
       "Dona              1\n",
       "Name: count, dtype: int64"
      ]
     },
     "execution_count": 11,
     "metadata": {},
     "output_type": "execute_result"
    }
   ],
   "source": [
    "# Show value counts of titles extracted from Name\n",
    "df['Name'].str.split(r'[,.]').str[1].str.strip().value_counts()"
   ]
  },
  {
   "cell_type": "code",
   "execution_count": 12,
   "id": "d95d471a",
   "metadata": {},
   "outputs": [],
   "source": [
    "# Extract Title from Name\n",
    "df['Title'] = df['Name'].str.split(r'[,.]').str[1].str.strip()"
   ]
  },
  {
   "cell_type": "code",
   "execution_count": 13,
   "id": "5554abbe",
   "metadata": {},
   "outputs": [],
   "source": [
    "# Extract FamilyName and drop Name column\n",
    "df['FamilyName'] =df['Name'].str.split(',').str[0].str.strip()\n",
    "df.drop('Name' , axis = 1 , inplace=True)"
   ]
  },
  {
   "cell_type": "code",
   "execution_count": 14,
   "id": "c9af09b7",
   "metadata": {},
   "outputs": [
    {
     "data": {
      "text/html": [
       "<div>\n",
       "<style scoped>\n",
       "    .dataframe tbody tr th:only-of-type {\n",
       "        vertical-align: middle;\n",
       "    }\n",
       "\n",
       "    .dataframe tbody tr th {\n",
       "        vertical-align: top;\n",
       "    }\n",
       "\n",
       "    .dataframe thead th {\n",
       "        text-align: right;\n",
       "    }\n",
       "</style>\n",
       "<table border=\"1\" class=\"dataframe\">\n",
       "  <thead>\n",
       "    <tr style=\"text-align: right;\">\n",
       "      <th></th>\n",
       "      <th>PassengerId</th>\n",
       "      <th>Survived</th>\n",
       "      <th>Pclass</th>\n",
       "      <th>Sex</th>\n",
       "      <th>Age</th>\n",
       "      <th>SibSp</th>\n",
       "      <th>Parch</th>\n",
       "      <th>Ticket</th>\n",
       "      <th>Fare</th>\n",
       "      <th>Embarked</th>\n",
       "      <th>ind</th>\n",
       "      <th>cell_number</th>\n",
       "      <th>Cabin_letter</th>\n",
       "      <th>Title</th>\n",
       "      <th>FamilyName</th>\n",
       "    </tr>\n",
       "  </thead>\n",
       "  <tbody>\n",
       "    <tr>\n",
       "      <th>0</th>\n",
       "      <td>1</td>\n",
       "      <td>0.0</td>\n",
       "      <td>3</td>\n",
       "      <td>male</td>\n",
       "      <td>22.0</td>\n",
       "      <td>1</td>\n",
       "      <td>0</td>\n",
       "      <td>A/5 21171</td>\n",
       "      <td>7.2500</td>\n",
       "      <td>S</td>\n",
       "      <td>train</td>\n",
       "      <td>23-25-27</td>\n",
       "      <td>C</td>\n",
       "      <td>Mr</td>\n",
       "      <td>Braund</td>\n",
       "    </tr>\n",
       "    <tr>\n",
       "      <th>1</th>\n",
       "      <td>2</td>\n",
       "      <td>1.0</td>\n",
       "      <td>1</td>\n",
       "      <td>female</td>\n",
       "      <td>38.0</td>\n",
       "      <td>1</td>\n",
       "      <td>0</td>\n",
       "      <td>PC 17599</td>\n",
       "      <td>71.2833</td>\n",
       "      <td>C</td>\n",
       "      <td>train</td>\n",
       "      <td>85</td>\n",
       "      <td>C</td>\n",
       "      <td>Mrs</td>\n",
       "      <td>Cumings</td>\n",
       "    </tr>\n",
       "    <tr>\n",
       "      <th>2</th>\n",
       "      <td>3</td>\n",
       "      <td>1.0</td>\n",
       "      <td>3</td>\n",
       "      <td>female</td>\n",
       "      <td>26.0</td>\n",
       "      <td>0</td>\n",
       "      <td>0</td>\n",
       "      <td>STON/O2. 3101282</td>\n",
       "      <td>7.9250</td>\n",
       "      <td>S</td>\n",
       "      <td>train</td>\n",
       "      <td>23-25-27</td>\n",
       "      <td>C</td>\n",
       "      <td>Miss</td>\n",
       "      <td>Heikkinen</td>\n",
       "    </tr>\n",
       "    <tr>\n",
       "      <th>3</th>\n",
       "      <td>4</td>\n",
       "      <td>1.0</td>\n",
       "      <td>1</td>\n",
       "      <td>female</td>\n",
       "      <td>35.0</td>\n",
       "      <td>1</td>\n",
       "      <td>0</td>\n",
       "      <td>113803</td>\n",
       "      <td>53.1000</td>\n",
       "      <td>S</td>\n",
       "      <td>train</td>\n",
       "      <td>123</td>\n",
       "      <td>C</td>\n",
       "      <td>Mrs</td>\n",
       "      <td>Futrelle</td>\n",
       "    </tr>\n",
       "    <tr>\n",
       "      <th>4</th>\n",
       "      <td>5</td>\n",
       "      <td>0.0</td>\n",
       "      <td>3</td>\n",
       "      <td>male</td>\n",
       "      <td>35.0</td>\n",
       "      <td>0</td>\n",
       "      <td>0</td>\n",
       "      <td>373450</td>\n",
       "      <td>8.0500</td>\n",
       "      <td>S</td>\n",
       "      <td>train</td>\n",
       "      <td>23-25-27</td>\n",
       "      <td>C</td>\n",
       "      <td>Mr</td>\n",
       "      <td>Allen</td>\n",
       "    </tr>\n",
       "  </tbody>\n",
       "</table>\n",
       "</div>"
      ],
      "text/plain": [
       "   PassengerId  Survived  Pclass     Sex   Age  SibSp  Parch  \\\n",
       "0            1       0.0       3    male  22.0      1      0   \n",
       "1            2       1.0       1  female  38.0      1      0   \n",
       "2            3       1.0       3  female  26.0      0      0   \n",
       "3            4       1.0       1  female  35.0      1      0   \n",
       "4            5       0.0       3    male  35.0      0      0   \n",
       "\n",
       "             Ticket     Fare Embarked    ind cell_number Cabin_letter Title  \\\n",
       "0         A/5 21171   7.2500        S  train    23-25-27            C    Mr   \n",
       "1          PC 17599  71.2833        C  train          85            C   Mrs   \n",
       "2  STON/O2. 3101282   7.9250        S  train    23-25-27            C  Miss   \n",
       "3            113803  53.1000        S  train         123            C   Mrs   \n",
       "4            373450   8.0500        S  train    23-25-27            C    Mr   \n",
       "\n",
       "  FamilyName  \n",
       "0     Braund  \n",
       "1    Cumings  \n",
       "2  Heikkinen  \n",
       "3   Futrelle  \n",
       "4      Allen  "
      ]
     },
     "execution_count": 14,
     "metadata": {},
     "output_type": "execute_result"
    }
   ],
   "source": [
    "# Show first rows after name processing\n",
    "df.head()"
   ]
  },
  {
   "cell_type": "markdown",
   "id": "6adce2e3",
   "metadata": {},
   "source": [
    "Now let's extract some important information from ticket column like \n",
    "\n",
    "1. route/agent\n",
    "2. batch/timeframe\n",
    "3. SharedTicket(1 , 0)"
   ]
  },
  {
   "cell_type": "code",
   "execution_count": 15,
   "id": "d725ce35",
   "metadata": {},
   "outputs": [
    {
     "data": {
      "text/plain": [
       "0                [A/5, 21171]\n",
       "1                 [PC, 17599]\n",
       "2         [STON/O2., 3101282]\n",
       "3                    [113803]\n",
       "4                    [373450]\n",
       "                ...          \n",
       "1281             [A.5., 3236]\n",
       "1282              [PC, 17758]\n",
       "1283    [SOTON/O.Q., 3101262]\n",
       "1284                 [359309]\n",
       "1285                   [2668]\n",
       "Name: Ticket, Length: 1280, dtype: object"
      ]
     },
     "execution_count": 15,
     "metadata": {},
     "output_type": "execute_result"
    }
   ],
   "source": [
    "# Split Ticket column for further processing\n",
    "df['Ticket'].str.split()"
   ]
  },
  {
   "cell_type": "code",
   "execution_count": 16,
   "id": "cecb434f",
   "metadata": {},
   "outputs": [],
   "source": [
    "# I want to update only_character variable\n",
    "clean_agents = df['Ticket'].str.extract(r'^([A-Za-z/.]+\\d*)', expand=False).fillna('Non-special').replace('[.]' , '' , regex=True)"
   ]
  },
  {
   "cell_type": "code",
   "execution_count": 17,
   "id": "60fc1442",
   "metadata": {},
   "outputs": [
    {
     "data": {
      "text/plain": [
       "array(['A/5', 'PC', 'STON/O2', 'Non-special', 'PP', 'CA', 'SC/Paris',\n",
       "       'SC/A4', 'A/4', 'SP', 'SOC', 'SO/C', 'W/C', 'SOTON/OQ', 'WEP',\n",
       "       'STON/O', 'A4', 'C', 'SC/PARIS', 'SOP', 'A5', 'Fa', 'LINE', 'FCC',\n",
       "       'SW/PP', 'SCO/W', 'P/PP', 'SC', 'SC/AH', 'A/S', 'WE/P', 'SO/PP',\n",
       "       'FC', 'SOTON/O2', 'CA/SOTON', 'SC/A3', 'STON/OQ', 'AQ/4', 'A',\n",
       "       'LP', 'AQ/3'], dtype=object)"
      ]
     },
     "execution_count": 17,
     "metadata": {},
     "output_type": "execute_result"
    }
   ],
   "source": [
    "# Show unique special agent/route values\n",
    "clean_agents.unique()\n",
    "\n",
    "# That's perfect"
   ]
  },
  {
   "cell_type": "code",
   "execution_count": 18,
   "id": "1ed8a978",
   "metadata": {},
   "outputs": [],
   "source": [
    "# Add special agent/route column\n",
    "df['Special Agent/route'] = clean_agents "
   ]
  },
  {
   "cell_type": "markdown",
   "id": "d1650c3b",
   "metadata": {},
   "source": [
    "Make Ticket batch column"
   ]
  },
  {
   "cell_type": "code",
   "execution_count": 19,
   "id": "b0550489",
   "metadata": {},
   "outputs": [
    {
     "data": {
      "text/plain": [
       "array([5, 7, 6, 4, 3, 1])"
      ]
     },
     "execution_count": 19,
     "metadata": {},
     "output_type": "execute_result"
    }
   ],
   "source": [
    "# Extract ticket digits for batch classification\n",
    "ticket_digits = df['Ticket'].str.split().str[-1]\n",
    "ticket_digits.str.len().unique()"
   ]
  },
  {
   "cell_type": "code",
   "execution_count": 20,
   "id": "8aa5f7b6",
   "metadata": {},
   "outputs": [
    {
     "data": {
      "text/plain": [
       "758     3\n",
       "825     3\n",
       "1057    2\n",
       "1172    2\n",
       "Name: Ticket, dtype: object"
      ]
     },
     "execution_count": 20,
     "metadata": {},
     "output_type": "execute_result"
    }
   ],
   "source": [
    "# Show ticket digits with length 1\n",
    "ticket_digits[ticket_digits.str.len() == 1]"
   ]
  },
  {
   "cell_type": "code",
   "execution_count": 21,
   "id": "682e981d",
   "metadata": {},
   "outputs": [
    {
     "data": {
      "text/plain": [
       "array(['383121', 'C.A. 5547', '111163', '12749'], dtype=object)"
      ]
     },
     "execution_count": 21,
     "metadata": {},
     "output_type": "execute_result"
    }
   ],
   "source": [
    "# Get corrected values for tickets with length 1\n",
    "corrected_values = df.iloc[ticket_digits[ticket_digits.str.len() == 1].index]['Ticket'].values\n",
    "corrected_values"
   ]
  },
  {
   "cell_type": "code",
   "execution_count": 22,
   "id": "43cda413",
   "metadata": {},
   "outputs": [],
   "source": [
    "# Assign corrected values to ticket_digits\n",
    "ticket_digits[ticket_digits.str.len() == 1] = corrected_values"
   ]
  },
  {
   "cell_type": "code",
   "execution_count": 23,
   "id": "b4dda663",
   "metadata": {},
   "outputs": [
    {
     "data": {
      "text/plain": [
       "array([5, 7, 6, 4, 3, 9])"
      ]
     },
     "execution_count": 23,
     "metadata": {},
     "output_type": "execute_result"
    }
   ],
   "source": [
    "# Check unique lengths after correction\n",
    "ticket_digits.str.len().unique()"
   ]
  },
  {
   "cell_type": "code",
   "execution_count": 24,
   "id": "b777878c",
   "metadata": {},
   "outputs": [
    {
     "data": {
      "text/plain": [
       "array(['21171', '17599', '3101282', '113803', '373450', '330877', '17463',\n",
       "       '349909', '347742', '237736', '9549', '113783', '2151', '347082',\n",
       "       '350406', '248706', '382652', '244373', '345763', '2649', '239865',\n",
       "       '248698', '330923', '113788', '347077', '2631', '19950', '330959',\n",
       "       '349216', '17601', '17569', '335677', '24579', '17604', '113789',\n",
       "       '2677', '2152', '345764', '2651', '7546', '11668', '349253',\n",
       "       '2123', '330958', '23567', '370371', '14311', '2662', '349237',\n",
       "       '3101295', '39886', '17572', '2926', '113509', '19947', '31026',\n",
       "       '2697', '34651', '2144', '2669', '36973', '347088', '17605',\n",
       "       '2661', '29395', '3464', '3101281', '315151', '33111', '14879',\n",
       "       '2680', '1601', '348123', '349208', '374746', '248738', '364516',\n",
       "       '345767', '345779', '330932', '113059', '14885', '3101278', '6608',\n",
       "       '392086', '343275', '343276', '347466', '5734', '2315', '364500',\n",
       "       '374910', '17754', '17759', '231919', '244367', '349245', '35281',\n",
       "       '7540', '3101276', '349207', '343120', '312991', '349249',\n",
       "       '371110', '110465', '2665', '324669', '4136', '2627', '3101294',\n",
       "       '370369', '17558', '54510', '27267', '370372', '17369', '2668',\n",
       "       '347061', '349241', '3101307', '3337', '228414', '29178', '2133',\n",
       "       '11752', '7534', '17593', '2678', '347081', '3101279', '365222',\n",
       "       '231945', '33112', '244310', '1166', '113776', '11206', '851',\n",
       "       '265302', '17597', '35851', '392090', '315037', '2343', '371362',\n",
       "       '33595', '347068', '315093', '363291', '113505', '17318', '111240',\n",
       "       '3101280', '17764', '350404', '4133', '17595', '250653', 'LINE',\n",
       "       '2131', '230136', '315153', '113767', '370365', '364849', '349247',\n",
       "       '234604', '28424', '350046', '230080', '17610', '368703', '4579',\n",
       "       '370370', '248747', '345770', '3101264', '2628', '3540', '347054',\n",
       "       '2699', '367231', '112277', '3101311', '13528', '21174', '250646',\n",
       "       '367229', '35273', '3101283', '243847', '11813', '14208', '392089',\n",
       "       '220367', '21440', '349234', '19943', '4348', '751', '236171',\n",
       "       '347067', '237442', '29566', '6609', '26707', '31921', '28665',\n",
       "       '1585', '367230', '14263', '3101275', '2694', '19928', '347071',\n",
       "       '250649', '11751', '244252', '362316', '113514', '3336', '370129',\n",
       "       '2650', '17585', '110152', '17755', '230433', '384461', '110413',\n",
       "       '112059', '382649', '17248', '347083', '17582', '17760', '113798',\n",
       "       '250644', '17596', '370375', '13502', '347073', '239853', '2673',\n",
       "       '336439', '347464', '345778', '10482', '113056', '349239',\n",
       "       '345774', '349206', '237798', '370373', '19877', '11967', '349236',\n",
       "       '349233', '17612', '2693', '113781', '19988', '9234', '367226',\n",
       "       '226593', '2466', '17421', '17758', '3381', '17485', '11767',\n",
       "       '17608', '250651', '349243', '13529', '347470', '29011', '36928',\n",
       "       '16966', '21172', '349219', '234818', '345364', '111361', '113043',\n",
       "       '17611', '349225', '7598', '248740', '244361', '229236', '248733',\n",
       "       '31418', '386525', '37671', '315088', '7267', '113510', '2695',\n",
       "       '2647', '345783', '237671', '330931', '330980', '2167', '2691',\n",
       "       '3101310', '7076', '110813', '2626', '14313', '17477', '11765',\n",
       "       '3101267', '323951', '7077', '113503', '2648', '347069', '17757',\n",
       "       '2653', '3101293', '349227', '27849', '367655', '1748', '113760',\n",
       "       '350034', '3101277', '350052', '350407', '28403', '244278',\n",
       "       '240929', '3101289', '341826', '4137', '315096', '28664', '347064',\n",
       "       '29106', '312992', '349222', '394140', '3101269', '343095',\n",
       "       '28220', '250652', '28228', '345773', '349254', '13032', '315082',\n",
       "       '347080', '34244', '2003', '250655', '364851', '110564', '376564',\n",
       "       '3085', '3101274', '13507', '18723', '345769', '347076', '230434',\n",
       "       '65306', '33638', '113794', '2666', '113786', '65303', '113051',\n",
       "       '17453', '2817', '349240', '13509', '17464', '13531', '371060',\n",
       "       '19952', '364506', '111320', '234360', '2816', '3101306', '113792',\n",
       "       '36209', '323592', '315089', '7553', '31027', '3460', '350060',\n",
       "       '3101298', '239854', '3594', '4134', '11771', '18509', '65304',\n",
       "       '3101317', '113787', '17609', '45380', '36947', '6212', '350035',\n",
       "       '315086', '364846', '330909', '4135', '26360', '4001', '382651',\n",
       "       '3101316', '17473', '17603', '349209', '36967', '34260', '226875',\n",
       "       '349242', '12749', '349252', '2624', '2700', '367232', '14258',\n",
       "       '17483', '3101296', '29104', '2641', '2690', '315084', '113050',\n",
       "       '17761', '364498', '13568', '5735', '2908', '693', '2146',\n",
       "       '244358', '330979', '347085', '113807', '11755', '345572',\n",
       "       '372622', '349251', '218629', '392082', '392087', '48871',\n",
       "       '349205', '2686', '350417', '752', '11769', '14312', '20589',\n",
       "       '358585', '243880', '2689', '3101286', '237789', '13049', '3411',\n",
       "       '237565', '13567', '14973', '3235', '3101273', '3902', '364848',\n",
       "       '29037', '248727', '2664', '349214', '113796', '364511', '349910',\n",
       "       '349246', '113804', '3101305', '370377', '364512', '220845',\n",
       "       '31028', '2659', '11753', '350029', '54636', '36963', '219533',\n",
       "       '349224', '334912', '27042', '347743', '13214', '112052', '237668',\n",
       "       '3101292', '350050', '349231', '13213', '2314', '349221', '8475',\n",
       "       '330919', '365226', '349223', '29751', '2623', '5727', '349210',\n",
       "       '3101285', '234686', '312993', '3536', '19996', '29750', '12750',\n",
       "       '24580', '244270', '239856', '349912', '342826', '4138', '330935',\n",
       "       '6563', '349228', '350036', '24160', '17474', '349256', '2672',\n",
       "       '113800', '248731', '363592', '35852', '348121', '17475', '36864',\n",
       "       '350025', '223596', '17476', '17482', '113028', '7545', '250647',\n",
       "       '348124', '34218', '36568', '347062', '350048', '12233', '250643',\n",
       "       '113806', '315094', '36866', '236853', '3101271', '239855',\n",
       "       '28425', '233639', '349201', '349218', '16988', '376566',\n",
       "       '3101288', '250648', '113773', '335097', '29103', '392096',\n",
       "       '345780', '349204', '350042', '29108', '363294', '3101272', '2663',\n",
       "       '347074', '112379', '364850', '8471', '345781', '350047', '383121',\n",
       "       '2674', '29105', '347078', '36865', '2687', '113501', '6607',\n",
       "       '3101312', '3101265', '12460', '17600', '349203', '28213', '17465',\n",
       "       '349244', '2685', '2625', '347089', '347063', '112050', '347087',\n",
       "       '248723', '3474', '28206', '364499', '112058', '3101290', '2079',\n",
       "       '7075', '315098', '19972', '368323', '367228', '2671', '347468',\n",
       "       '2223', '17756', '315097', '392092', '11774', '3101287',\n",
       "       'C.A. 5547', '2683', '315090', '5547', '349213', '347060', '17592',\n",
       "       '392091', '113055', '2629', '350026', '28134', '17466', '233866',\n",
       "       '236852', '2149', '17590', '345777', '349248', '695', '345765',\n",
       "       '2667', '349212', '349217', '349257', '7552', '34068', '392076',\n",
       "       '211536', '112053', '111369', '370376', '330911', '363272',\n",
       "       '240276', '315154', '7538', '330972', '2657', '349220', '694',\n",
       "       '21228', '24065', '233734', '2692', '3101270', '2696', '17368',\n",
       "       '17598', '2698', '113054', '31029', '13236', '342712', '315087',\n",
       "       '345768', '113778', '3101263', '237249', '3101291', '17594',\n",
       "       '370374', '13695', '2168', '2861', '349230', '348122', '349232',\n",
       "       '237216', '347090', '334914', '13534', '330963', '2543', '382653',\n",
       "       '349211', '3101297', '17562', '359306', '11770', '248744',\n",
       "       '368702', '19924', '349238', '240261', '2660', '330844', '31416',\n",
       "       '364856', '347072', '345498', '376563', '13905', '350033',\n",
       "       '3101268', '347471', '3338', '11778', '365235', '347070', '330920',\n",
       "       '383162', '237734', '330968', '17531', '329944', '2681', '13050',\n",
       "       '367227', '392095', '368783', '350045', '211535', '342441',\n",
       "       '369943', '113780', '2621', '349226', '350409', '2656', '248659',\n",
       "       '392083', '23568', '113791', '349255', '350405', '347469',\n",
       "       '110489', '3101315', '335432', '220844', '343271', '237393',\n",
       "       '17591', '17770', '7548', '251', '2670', '233478', '7935',\n",
       "       '239059', '111163', '48873', '28221', '235509', '347465', '347066',\n",
       "       '31030', '65305', '34050', '12998', '9232', '28034', '17613',\n",
       "       '349250', '3101308', '347091', '113038', '330924', '32302', '2148',\n",
       "       '342684', '14266', '350053', '17606', '350054', '370368', '242963',\n",
       "       '113795', '3101266', '330971', '350416', '2679', '250650',\n",
       "       '112377', '3470', '3101284', '13508', '7266', '345775', '42795',\n",
       "       '3130', '363611', '28404', '345501', '350410', '34644', '349235',\n",
       "       '112051', '49867', '39186', '315095', '368573', '2676', '14888',\n",
       "       '31352', '14260', '315085', '364859', '21175', '2655', '1478',\n",
       "       '17607', '382650', '2652', '345771', '349202', '113801', '347467',\n",
       "       '347079', '315092', '383123', '112901', '315091', '2658', '1588',\n",
       "       '368364', '30631', '28004', '350408', '347075', '2654', '244368',\n",
       "       '113790', '3101309', '236854', '17580', '2684', '349229', '110469',\n",
       "       '244360', '2675', '2622', '15185', '350403', '348125', '237670',\n",
       "       '2688', '248726', '13540', '113044', '1222', '368402', '315083',\n",
       "       '112378', '2147', '28133', '248746', '315152', '29107', '680',\n",
       "       '366713', '330910', '2159', '349911', '244346', '364858', '30769',\n",
       "       '371109', '347065', '21332', '17765', '28666', '334915', '365237',\n",
       "       '347086', '3236', '3101262', '359309'], dtype=object)"
      ]
     },
     "execution_count": 24,
     "metadata": {},
     "output_type": "execute_result"
    }
   ],
   "source": [
    "# Show unique ticket digits\n",
    "ticket_digits.unique()"
   ]
  },
  {
   "cell_type": "code",
   "execution_count": 25,
   "id": "04816fc1",
   "metadata": {},
   "outputs": [],
   "source": [
    "# Create TicketBatch column: 1 for early, 0 for late\n",
    "df['TicketBatch'] = np.where(ticket_digits.str.len() < 5 , 1,0)"
   ]
  },
  {
   "cell_type": "markdown",
   "id": "36284a9d",
   "metadata": {},
   "source": [
    "1: Early<br>\n",
    "0: Late"
   ]
  },
  {
   "cell_type": "markdown",
   "id": "480b044f",
   "metadata": {},
   "source": [
    "Let's make boolean column called shared ticket"
   ]
  },
  {
   "cell_type": "code",
   "execution_count": 26,
   "id": "7d7e8a3d",
   "metadata": {},
   "outputs": [],
   "source": [
    "# Create SharedTicket column: 1 if ticket is duplicated, else 0\n",
    "df['SharedTicket'] = np.where(df['Ticket'].duplicated() , 1 , 0)"
   ]
  },
  {
   "cell_type": "code",
   "execution_count": 27,
   "id": "0e9351ad",
   "metadata": {},
   "outputs": [
    {
     "data": {
      "text/plain": [
       "0             5\n",
       "1         17599\n",
       "2             2\n",
       "3        113803\n",
       "4        373450\n",
       "         ...   \n",
       "1281          5\n",
       "1282      17758\n",
       "1283    3101262\n",
       "1284     359309\n",
       "1285       2668\n",
       "Name: 0, Length: 1280, dtype: object"
      ]
     },
     "execution_count": 27,
     "metadata": {},
     "output_type": "execute_result"
    }
   ],
   "source": [
    "# Extract first digit from Ticket (not used further)\n",
    "first_digit_ticket = df['Ticket'].str.extract(r'([0-9]+)')[0]\n",
    "first_digit_ticket"
   ]
  },
  {
   "cell_type": "code",
   "execution_count": 28,
   "id": "ac6029c1",
   "metadata": {},
   "outputs": [
    {
     "data": {
      "text/plain": [
       "0           A/5 21171\n",
       "1            PC 17599\n",
       "2    STON/O2. 3101282\n",
       "3              113803\n",
       "4              373450\n",
       "Name: Ticket, dtype: object"
      ]
     },
     "execution_count": 28,
     "metadata": {},
     "output_type": "execute_result"
    }
   ],
   "source": [
    "# Show first 5 Ticket values\n",
    "df['Ticket'].head()"
   ]
  },
  {
   "cell_type": "code",
   "execution_count": 29,
   "id": "76671eca",
   "metadata": {},
   "outputs": [],
   "source": [
    "# Drop Ticket column after feature extraction\n",
    "df.drop('Ticket' , axis = 1 , inplace=True)"
   ]
  },
  {
   "cell_type": "code",
   "execution_count": 30,
   "id": "48309596",
   "metadata": {},
   "outputs": [
    {
     "data": {
      "text/html": [
       "<div>\n",
       "<style scoped>\n",
       "    .dataframe tbody tr th:only-of-type {\n",
       "        vertical-align: middle;\n",
       "    }\n",
       "\n",
       "    .dataframe tbody tr th {\n",
       "        vertical-align: top;\n",
       "    }\n",
       "\n",
       "    .dataframe thead th {\n",
       "        text-align: right;\n",
       "    }\n",
       "</style>\n",
       "<table border=\"1\" class=\"dataframe\">\n",
       "  <thead>\n",
       "    <tr style=\"text-align: right;\">\n",
       "      <th></th>\n",
       "      <th>PassengerId</th>\n",
       "      <th>Survived</th>\n",
       "      <th>Pclass</th>\n",
       "      <th>Sex</th>\n",
       "      <th>Age</th>\n",
       "      <th>SibSp</th>\n",
       "      <th>Parch</th>\n",
       "      <th>Fare</th>\n",
       "      <th>Embarked</th>\n",
       "      <th>ind</th>\n",
       "      <th>cell_number</th>\n",
       "      <th>Cabin_letter</th>\n",
       "      <th>Title</th>\n",
       "      <th>FamilyName</th>\n",
       "      <th>Special Agent/route</th>\n",
       "      <th>TicketBatch</th>\n",
       "      <th>SharedTicket</th>\n",
       "    </tr>\n",
       "  </thead>\n",
       "  <tbody>\n",
       "    <tr>\n",
       "      <th>391</th>\n",
       "      <td>398</td>\n",
       "      <td>0.0</td>\n",
       "      <td>2</td>\n",
       "      <td>male</td>\n",
       "      <td>46.000000</td>\n",
       "      <td>0</td>\n",
       "      <td>0</td>\n",
       "      <td>26.0000</td>\n",
       "      <td>S</td>\n",
       "      <td>train</td>\n",
       "      <td>23-25-27</td>\n",
       "      <td>C</td>\n",
       "      <td>Mr</td>\n",
       "      <td>McKane</td>\n",
       "      <td>Non-special</td>\n",
       "      <td>0</td>\n",
       "      <td>0</td>\n",
       "    </tr>\n",
       "    <tr>\n",
       "      <th>867</th>\n",
       "      <td>884</td>\n",
       "      <td>0.0</td>\n",
       "      <td>2</td>\n",
       "      <td>male</td>\n",
       "      <td>28.000000</td>\n",
       "      <td>0</td>\n",
       "      <td>0</td>\n",
       "      <td>10.5000</td>\n",
       "      <td>S</td>\n",
       "      <td>train</td>\n",
       "      <td>23-25-27</td>\n",
       "      <td>C</td>\n",
       "      <td>Mr</td>\n",
       "      <td>Banfield</td>\n",
       "      <td>CA/SOTON</td>\n",
       "      <td>0</td>\n",
       "      <td>0</td>\n",
       "    </tr>\n",
       "    <tr>\n",
       "      <th>592</th>\n",
       "      <td>604</td>\n",
       "      <td>0.0</td>\n",
       "      <td>3</td>\n",
       "      <td>male</td>\n",
       "      <td>44.000000</td>\n",
       "      <td>0</td>\n",
       "      <td>0</td>\n",
       "      <td>8.0500</td>\n",
       "      <td>S</td>\n",
       "      <td>train</td>\n",
       "      <td>23-25-27</td>\n",
       "      <td>C</td>\n",
       "      <td>Mr</td>\n",
       "      <td>Torber</td>\n",
       "      <td>Non-special</td>\n",
       "      <td>0</td>\n",
       "      <td>0</td>\n",
       "    </tr>\n",
       "    <tr>\n",
       "      <th>1202</th>\n",
       "      <td>1225</td>\n",
       "      <td>NaN</td>\n",
       "      <td>3</td>\n",
       "      <td>female</td>\n",
       "      <td>19.000000</td>\n",
       "      <td>1</td>\n",
       "      <td>1</td>\n",
       "      <td>15.7417</td>\n",
       "      <td>C</td>\n",
       "      <td>test</td>\n",
       "      <td>23-25-27</td>\n",
       "      <td>C</td>\n",
       "      <td>Mrs</td>\n",
       "      <td>Nakid</td>\n",
       "      <td>Non-special</td>\n",
       "      <td>1</td>\n",
       "      <td>1</td>\n",
       "    </tr>\n",
       "    <tr>\n",
       "      <th>1187</th>\n",
       "      <td>1209</td>\n",
       "      <td>NaN</td>\n",
       "      <td>2</td>\n",
       "      <td>male</td>\n",
       "      <td>19.000000</td>\n",
       "      <td>0</td>\n",
       "      <td>0</td>\n",
       "      <td>10.5000</td>\n",
       "      <td>S</td>\n",
       "      <td>test</td>\n",
       "      <td>23-25-27</td>\n",
       "      <td>C</td>\n",
       "      <td>Mr</td>\n",
       "      <td>Rogers</td>\n",
       "      <td>Non-special</td>\n",
       "      <td>0</td>\n",
       "      <td>0</td>\n",
       "    </tr>\n",
       "    <tr>\n",
       "      <th>19</th>\n",
       "      <td>20</td>\n",
       "      <td>1.0</td>\n",
       "      <td>3</td>\n",
       "      <td>female</td>\n",
       "      <td>29.881138</td>\n",
       "      <td>0</td>\n",
       "      <td>0</td>\n",
       "      <td>7.2250</td>\n",
       "      <td>C</td>\n",
       "      <td>train</td>\n",
       "      <td>23-25-27</td>\n",
       "      <td>C</td>\n",
       "      <td>Mrs</td>\n",
       "      <td>Masselmani</td>\n",
       "      <td>Non-special</td>\n",
       "      <td>1</td>\n",
       "      <td>0</td>\n",
       "    </tr>\n",
       "    <tr>\n",
       "      <th>1044</th>\n",
       "      <td>1065</td>\n",
       "      <td>NaN</td>\n",
       "      <td>3</td>\n",
       "      <td>male</td>\n",
       "      <td>29.881138</td>\n",
       "      <td>0</td>\n",
       "      <td>0</td>\n",
       "      <td>7.2292</td>\n",
       "      <td>C</td>\n",
       "      <td>test</td>\n",
       "      <td>23-25-27</td>\n",
       "      <td>C</td>\n",
       "      <td>Mr</td>\n",
       "      <td>Torfa</td>\n",
       "      <td>Non-special</td>\n",
       "      <td>1</td>\n",
       "      <td>0</td>\n",
       "    </tr>\n",
       "    <tr>\n",
       "      <th>886</th>\n",
       "      <td>903</td>\n",
       "      <td>NaN</td>\n",
       "      <td>1</td>\n",
       "      <td>male</td>\n",
       "      <td>46.000000</td>\n",
       "      <td>0</td>\n",
       "      <td>0</td>\n",
       "      <td>26.0000</td>\n",
       "      <td>S</td>\n",
       "      <td>test</td>\n",
       "      <td>23-25-27</td>\n",
       "      <td>C</td>\n",
       "      <td>Mr</td>\n",
       "      <td>Jones</td>\n",
       "      <td>Non-special</td>\n",
       "      <td>1</td>\n",
       "      <td>0</td>\n",
       "    </tr>\n",
       "    <tr>\n",
       "      <th>358</th>\n",
       "      <td>365</td>\n",
       "      <td>0.0</td>\n",
       "      <td>3</td>\n",
       "      <td>male</td>\n",
       "      <td>29.881138</td>\n",
       "      <td>1</td>\n",
       "      <td>0</td>\n",
       "      <td>15.5000</td>\n",
       "      <td>Q</td>\n",
       "      <td>train</td>\n",
       "      <td>23-25-27</td>\n",
       "      <td>C</td>\n",
       "      <td>Mr</td>\n",
       "      <td>O'Brien</td>\n",
       "      <td>Non-special</td>\n",
       "      <td>0</td>\n",
       "      <td>1</td>\n",
       "    </tr>\n",
       "    <tr>\n",
       "      <th>131</th>\n",
       "      <td>134</td>\n",
       "      <td>1.0</td>\n",
       "      <td>2</td>\n",
       "      <td>female</td>\n",
       "      <td>29.000000</td>\n",
       "      <td>1</td>\n",
       "      <td>0</td>\n",
       "      <td>26.0000</td>\n",
       "      <td>S</td>\n",
       "      <td>train</td>\n",
       "      <td>23-25-27</td>\n",
       "      <td>C</td>\n",
       "      <td>Mrs</td>\n",
       "      <td>Weisz</td>\n",
       "      <td>Non-special</td>\n",
       "      <td>0</td>\n",
       "      <td>0</td>\n",
       "    </tr>\n",
       "  </tbody>\n",
       "</table>\n",
       "</div>"
      ],
      "text/plain": [
       "      PassengerId  Survived  Pclass     Sex        Age  SibSp  Parch     Fare  \\\n",
       "391           398       0.0       2    male  46.000000      0      0  26.0000   \n",
       "867           884       0.0       2    male  28.000000      0      0  10.5000   \n",
       "592           604       0.0       3    male  44.000000      0      0   8.0500   \n",
       "1202         1225       NaN       3  female  19.000000      1      1  15.7417   \n",
       "1187         1209       NaN       2    male  19.000000      0      0  10.5000   \n",
       "19             20       1.0       3  female  29.881138      0      0   7.2250   \n",
       "1044         1065       NaN       3    male  29.881138      0      0   7.2292   \n",
       "886           903       NaN       1    male  46.000000      0      0  26.0000   \n",
       "358           365       0.0       3    male  29.881138      1      0  15.5000   \n",
       "131           134       1.0       2  female  29.000000      1      0  26.0000   \n",
       "\n",
       "     Embarked    ind cell_number Cabin_letter Title  FamilyName  \\\n",
       "391         S  train    23-25-27            C    Mr      McKane   \n",
       "867         S  train    23-25-27            C    Mr    Banfield   \n",
       "592         S  train    23-25-27            C    Mr      Torber   \n",
       "1202        C   test    23-25-27            C   Mrs       Nakid   \n",
       "1187        S   test    23-25-27            C    Mr      Rogers   \n",
       "19          C  train    23-25-27            C   Mrs  Masselmani   \n",
       "1044        C   test    23-25-27            C    Mr       Torfa   \n",
       "886         S   test    23-25-27            C    Mr       Jones   \n",
       "358         Q  train    23-25-27            C    Mr     O'Brien   \n",
       "131         S  train    23-25-27            C   Mrs       Weisz   \n",
       "\n",
       "     Special Agent/route  TicketBatch  SharedTicket  \n",
       "391          Non-special            0             0  \n",
       "867             CA/SOTON            0             0  \n",
       "592          Non-special            0             0  \n",
       "1202         Non-special            1             1  \n",
       "1187         Non-special            0             0  \n",
       "19           Non-special            1             0  \n",
       "1044         Non-special            1             0  \n",
       "886          Non-special            1             0  \n",
       "358          Non-special            0             1  \n",
       "131          Non-special            0             0  "
      ]
     },
     "execution_count": 30,
     "metadata": {},
     "output_type": "execute_result"
    }
   ],
   "source": [
    "# Show random sample of dataframe\n",
    "df.sample(10)"
   ]
  },
  {
   "cell_type": "code",
   "execution_count": 31,
   "id": "952c1fbf",
   "metadata": {},
   "outputs": [
    {
     "name": "stdout",
     "output_type": "stream",
     "text": [
      "<class 'pandas.core.frame.DataFrame'>\n",
      "Index: 1280 entries, 0 to 1285\n",
      "Data columns (total 17 columns):\n",
      " #   Column               Non-Null Count  Dtype  \n",
      "---  ------               --------------  -----  \n",
      " 0   PassengerId          1280 non-null   int64  \n",
      " 1   Survived             871 non-null    float64\n",
      " 2   Pclass               1280 non-null   int64  \n",
      " 3   Sex                  1280 non-null   object \n",
      " 4   Age                  1280 non-null   float64\n",
      " 5   SibSp                1280 non-null   int64  \n",
      " 6   Parch                1280 non-null   int64  \n",
      " 7   Fare                 1280 non-null   float64\n",
      " 8   Embarked             1280 non-null   object \n",
      " 9   ind                  1280 non-null   object \n",
      " 10  cell_number          1280 non-null   object \n",
      " 11  Cabin_letter         1280 non-null   object \n",
      " 12  Title                1280 non-null   object \n",
      " 13  FamilyName           1280 non-null   object \n",
      " 14  Special Agent/route  1280 non-null   object \n",
      " 15  TicketBatch          1280 non-null   int64  \n",
      " 16  SharedTicket         1280 non-null   int64  \n",
      "dtypes: float64(3), int64(6), object(8)\n",
      "memory usage: 212.3+ KB\n"
     ]
    }
   ],
   "source": [
    "# Show dataframe info\n",
    "df.info()"
   ]
  },
  {
   "cell_type": "code",
   "execution_count": null,
   "id": "c95753fc",
   "metadata": {},
   "outputs": [
    {
     "ename": "",
     "evalue": "",
     "output_type": "error",
     "traceback": [
      "\u001b[1;31mThe Kernel crashed while executing code in the current cell or a previous cell. \n",
      "\u001b[1;31mPlease review the code in the cell(s) to identify a possible cause of the failure. \n",
      "\u001b[1;31mClick <a href='https://aka.ms/vscodeJupyterKernelCrash'>here</a> for more info. \n",
      "\u001b[1;31mView Jupyter <a href='command:jupyter.viewOutput'>log</a> for further details."
     ]
    }
   ],
   "source": [
    "# saving them \n",
    "df.to_csv('E:\\Data science\\Titanic dataset\\data\\Processed data\\Data Analysis\\processed_data.csv' , index=False)"
   ]
  }
 ],
 "metadata": {
  "kernelspec": {
   "display_name": "venv",
   "language": "python",
   "name": "python3"
  },
  "language_info": {
   "codemirror_mode": {
    "name": "ipython",
    "version": 3
   },
   "file_extension": ".py",
   "mimetype": "text/x-python",
   "name": "python",
   "nbconvert_exporter": "python",
   "pygments_lexer": "ipython3",
   "version": "3.13.3"
  }
 },
 "nbformat": 4,
 "nbformat_minor": 5
}
