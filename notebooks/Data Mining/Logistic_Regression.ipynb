{
 "cells": [
  {
   "cell_type": "code",
   "execution_count": 1,
   "id": "43929ea5",
   "metadata": {
    "notebookRunGroups": {
     "groupValue": "1"
    }
   },
   "outputs": [],
   "source": [
    "# Importing required modules and helper functions for Logistic Regression modeling\n",
    "import sys\n",
    "notebook_path = sys.path.append(r'e:\\Data science\\Titanic dataset\\notebooks')\n",
    "\n",
    "# Importing main libraries\n",
    "from auto_imports import *\n",
    "model_results_imports()\n",
    "from sklearn.preprocessing import OneHotEncoder , StandardScaler , RobustScaler , LabelEncoder\n",
    "from sklearn.compose import ColumnTransformer\n",
    "from sklearn.pipeline import Pipeline\n",
    "from sklearn.linear_model import LogisticRegression\n",
    "from sklearn.model_selection import train_test_split , GridSearchCV  # StratifiedKFold is already available in the notebook"
   ]
  },
  {
   "cell_type": "markdown",
   "id": "bb80aa8f",
   "metadata": {},
   "source": [
    "### Data Preparation\n",
    "\n",
    "Load and inspect the processed dataset for Logistic Regression."
   ]
  },
  {
   "cell_type": "code",
   "execution_count": 2,
   "id": "84a23a05",
   "metadata": {
    "notebookRunGroups": {
     "groupValue": "1"
    }
   },
   "outputs": [
    {
     "data": {
      "text/html": [
       "<div>\n",
       "<style scoped>\n",
       "    .dataframe tbody tr th:only-of-type {\n",
       "        vertical-align: middle;\n",
       "    }\n",
       "\n",
       "    .dataframe tbody tr th {\n",
       "        vertical-align: top;\n",
       "    }\n",
       "\n",
       "    .dataframe thead th {\n",
       "        text-align: right;\n",
       "    }\n",
       "</style>\n",
       "<table border=\"1\" class=\"dataframe\">\n",
       "  <thead>\n",
       "    <tr style=\"text-align: right;\">\n",
       "      <th></th>\n",
       "      <th>PassengerId</th>\n",
       "      <th>Survived</th>\n",
       "      <th>Pclass</th>\n",
       "      <th>Sex</th>\n",
       "      <th>Age</th>\n",
       "      <th>SibSp</th>\n",
       "      <th>Parch</th>\n",
       "      <th>Fare</th>\n",
       "      <th>Embarked</th>\n",
       "      <th>ind</th>\n",
       "      <th>...</th>\n",
       "      <th>Cabin_letter</th>\n",
       "      <th>Title</th>\n",
       "      <th>FamilySize</th>\n",
       "      <th>Is Alone</th>\n",
       "      <th>Is Special Agent/route</th>\n",
       "      <th>TicketBatch</th>\n",
       "      <th>SharedTicket</th>\n",
       "      <th>Fare per Person</th>\n",
       "      <th>Fare per Age</th>\n",
       "      <th>Tickets counts</th>\n",
       "    </tr>\n",
       "  </thead>\n",
       "  <tbody>\n",
       "    <tr>\n",
       "      <th>0</th>\n",
       "      <td>1</td>\n",
       "      <td>0.0</td>\n",
       "      <td>3</td>\n",
       "      <td>male</td>\n",
       "      <td>22.0</td>\n",
       "      <td>1</td>\n",
       "      <td>0</td>\n",
       "      <td>7.2500</td>\n",
       "      <td>S</td>\n",
       "      <td>train</td>\n",
       "      <td>...</td>\n",
       "      <td>C</td>\n",
       "      <td>Mr</td>\n",
       "      <td>2</td>\n",
       "      <td>0</td>\n",
       "      <td>1</td>\n",
       "      <td>0</td>\n",
       "      <td>0</td>\n",
       "      <td>3.62500</td>\n",
       "      <td>0.329545</td>\n",
       "      <td>1</td>\n",
       "    </tr>\n",
       "    <tr>\n",
       "      <th>1</th>\n",
       "      <td>2</td>\n",
       "      <td>1.0</td>\n",
       "      <td>1</td>\n",
       "      <td>female</td>\n",
       "      <td>38.0</td>\n",
       "      <td>1</td>\n",
       "      <td>0</td>\n",
       "      <td>71.2833</td>\n",
       "      <td>C</td>\n",
       "      <td>train</td>\n",
       "      <td>...</td>\n",
       "      <td>C</td>\n",
       "      <td>Mrs</td>\n",
       "      <td>2</td>\n",
       "      <td>0</td>\n",
       "      <td>1</td>\n",
       "      <td>0</td>\n",
       "      <td>0</td>\n",
       "      <td>35.64165</td>\n",
       "      <td>1.875876</td>\n",
       "      <td>2</td>\n",
       "    </tr>\n",
       "    <tr>\n",
       "      <th>2</th>\n",
       "      <td>3</td>\n",
       "      <td>1.0</td>\n",
       "      <td>3</td>\n",
       "      <td>female</td>\n",
       "      <td>26.0</td>\n",
       "      <td>0</td>\n",
       "      <td>0</td>\n",
       "      <td>7.9250</td>\n",
       "      <td>S</td>\n",
       "      <td>train</td>\n",
       "      <td>...</td>\n",
       "      <td>C</td>\n",
       "      <td>Miss</td>\n",
       "      <td>1</td>\n",
       "      <td>1</td>\n",
       "      <td>1</td>\n",
       "      <td>0</td>\n",
       "      <td>0</td>\n",
       "      <td>7.92500</td>\n",
       "      <td>0.304808</td>\n",
       "      <td>1</td>\n",
       "    </tr>\n",
       "    <tr>\n",
       "      <th>3</th>\n",
       "      <td>4</td>\n",
       "      <td>1.0</td>\n",
       "      <td>1</td>\n",
       "      <td>female</td>\n",
       "      <td>35.0</td>\n",
       "      <td>1</td>\n",
       "      <td>0</td>\n",
       "      <td>53.1000</td>\n",
       "      <td>S</td>\n",
       "      <td>train</td>\n",
       "      <td>...</td>\n",
       "      <td>C</td>\n",
       "      <td>Mrs</td>\n",
       "      <td>2</td>\n",
       "      <td>0</td>\n",
       "      <td>0</td>\n",
       "      <td>0</td>\n",
       "      <td>0</td>\n",
       "      <td>26.55000</td>\n",
       "      <td>1.517143</td>\n",
       "      <td>2</td>\n",
       "    </tr>\n",
       "    <tr>\n",
       "      <th>4</th>\n",
       "      <td>5</td>\n",
       "      <td>0.0</td>\n",
       "      <td>3</td>\n",
       "      <td>male</td>\n",
       "      <td>35.0</td>\n",
       "      <td>0</td>\n",
       "      <td>0</td>\n",
       "      <td>8.0500</td>\n",
       "      <td>S</td>\n",
       "      <td>train</td>\n",
       "      <td>...</td>\n",
       "      <td>C</td>\n",
       "      <td>Mr</td>\n",
       "      <td>1</td>\n",
       "      <td>1</td>\n",
       "      <td>0</td>\n",
       "      <td>0</td>\n",
       "      <td>0</td>\n",
       "      <td>8.05000</td>\n",
       "      <td>0.230000</td>\n",
       "      <td>1</td>\n",
       "    </tr>\n",
       "  </tbody>\n",
       "</table>\n",
       "<p>5 rows × 21 columns</p>\n",
       "</div>"
      ],
      "text/plain": [
       "   PassengerId  Survived  Pclass     Sex   Age  SibSp  Parch     Fare  \\\n",
       "0            1       0.0       3    male  22.0      1      0   7.2500   \n",
       "1            2       1.0       1  female  38.0      1      0  71.2833   \n",
       "2            3       1.0       3  female  26.0      0      0   7.9250   \n",
       "3            4       1.0       1  female  35.0      1      0  53.1000   \n",
       "4            5       0.0       3    male  35.0      0      0   8.0500   \n",
       "\n",
       "  Embarked    ind  ...  Cabin_letter Title FamilySize  Is Alone  \\\n",
       "0        S  train  ...             C    Mr          2         0   \n",
       "1        C  train  ...             C   Mrs          2         0   \n",
       "2        S  train  ...             C  Miss          1         1   \n",
       "3        S  train  ...             C   Mrs          2         0   \n",
       "4        S  train  ...             C    Mr          1         1   \n",
       "\n",
       "   Is Special Agent/route  TicketBatch  SharedTicket  Fare per Person  \\\n",
       "0                       1            0             0          3.62500   \n",
       "1                       1            0             0         35.64165   \n",
       "2                       1            0             0          7.92500   \n",
       "3                       0            0             0         26.55000   \n",
       "4                       0            0             0          8.05000   \n",
       "\n",
       "   Fare per Age  Tickets counts  \n",
       "0      0.329545               1  \n",
       "1      1.875876               2  \n",
       "2      0.304808               1  \n",
       "3      1.517143               2  \n",
       "4      0.230000               1  \n",
       "\n",
       "[5 rows x 21 columns]"
      ]
     },
     "execution_count": 2,
     "metadata": {},
     "output_type": "execute_result"
    }
   ],
   "source": [
    "# Load the processed dataset for Logistic Regression\n",
    "logistic_df = pd.read_csv('E:\\Data science\\Titanic dataset\\data\\Processed data\\Data Analysis\\processed_data.csv')\n",
    "logistic_df.head() "
   ]
  },
  {
   "cell_type": "code",
   "execution_count": 3,
   "id": "3098fce5",
   "metadata": {},
   "outputs": [
    {
     "name": "stdout",
     "output_type": "stream",
     "text": [
      "<class 'pandas.core.frame.DataFrame'>\n",
      "RangeIndex: 1309 entries, 0 to 1308\n",
      "Data columns (total 21 columns):\n",
      " #   Column                  Non-Null Count  Dtype  \n",
      "---  ------                  --------------  -----  \n",
      " 0   PassengerId             1309 non-null   int64  \n",
      " 1   Survived                891 non-null    float64\n",
      " 2   Pclass                  1309 non-null   int64  \n",
      " 3   Sex                     1309 non-null   object \n",
      " 4   Age                     1309 non-null   float64\n",
      " 5   SibSp                   1309 non-null   int64  \n",
      " 6   Parch                   1309 non-null   int64  \n",
      " 7   Fare                    1309 non-null   float64\n",
      " 8   Embarked                1309 non-null   object \n",
      " 9   ind                     1309 non-null   object \n",
      " 10  cells_count             1309 non-null   int64  \n",
      " 11  Cabin_letter            1309 non-null   object \n",
      " 12  Title                   1309 non-null   object \n",
      " 13  FamilySize              1309 non-null   int64  \n",
      " 14  Is Alone                1309 non-null   int64  \n",
      " 15  Is Special Agent/route  1309 non-null   int64  \n",
      " 16  TicketBatch             1309 non-null   int64  \n",
      " 17  SharedTicket            1309 non-null   int64  \n",
      " 18  Fare per Person         1309 non-null   float64\n",
      " 19  Fare per Age            1309 non-null   float64\n",
      " 20  Tickets counts          1309 non-null   int64  \n",
      "dtypes: float64(5), int64(11), object(5)\n",
      "memory usage: 214.9+ KB\n"
     ]
    }
   ],
   "source": [
    "# Check info of the loaded dataset\n",
    "logistic_df.info()"
   ]
  },
  {
   "cell_type": "code",
   "execution_count": 4,
   "id": "53105030",
   "metadata": {},
   "outputs": [],
   "source": [
    "# Split the dataset into training and prediction sets\n",
    "train_logistic_df = logistic_df.query('`ind` == \"train\"').drop(['ind' , 'PassengerId'] , axis=1)\n",
    "predict_df = logistic_df.query('`ind` == \"test\"').drop(['ind' , 'Survived'] , axis=1)"
   ]
  },
  {
   "cell_type": "code",
   "execution_count": 5,
   "id": "1238a4c0",
   "metadata": {},
   "outputs": [
    {
     "data": {
      "text/html": [
       "<div>\n",
       "<style scoped>\n",
       "    .dataframe tbody tr th:only-of-type {\n",
       "        vertical-align: middle;\n",
       "    }\n",
       "\n",
       "    .dataframe tbody tr th {\n",
       "        vertical-align: top;\n",
       "    }\n",
       "\n",
       "    .dataframe thead th {\n",
       "        text-align: right;\n",
       "    }\n",
       "</style>\n",
       "<table border=\"1\" class=\"dataframe\">\n",
       "  <thead>\n",
       "    <tr style=\"text-align: right;\">\n",
       "      <th></th>\n",
       "      <th>Survived</th>\n",
       "      <th>Pclass</th>\n",
       "      <th>Sex</th>\n",
       "      <th>Age</th>\n",
       "      <th>SibSp</th>\n",
       "      <th>Parch</th>\n",
       "      <th>Fare</th>\n",
       "      <th>Embarked</th>\n",
       "      <th>cells_count</th>\n",
       "      <th>Cabin_letter</th>\n",
       "      <th>Title</th>\n",
       "      <th>FamilySize</th>\n",
       "      <th>Is Alone</th>\n",
       "      <th>Is Special Agent/route</th>\n",
       "      <th>TicketBatch</th>\n",
       "      <th>SharedTicket</th>\n",
       "      <th>Fare per Person</th>\n",
       "      <th>Fare per Age</th>\n",
       "      <th>Tickets counts</th>\n",
       "    </tr>\n",
       "  </thead>\n",
       "  <tbody>\n",
       "    <tr>\n",
       "      <th>0</th>\n",
       "      <td>0.0</td>\n",
       "      <td>3</td>\n",
       "      <td>male</td>\n",
       "      <td>22.0</td>\n",
       "      <td>1</td>\n",
       "      <td>0</td>\n",
       "      <td>7.2500</td>\n",
       "      <td>S</td>\n",
       "      <td>3</td>\n",
       "      <td>C</td>\n",
       "      <td>Mr</td>\n",
       "      <td>2</td>\n",
       "      <td>0</td>\n",
       "      <td>1</td>\n",
       "      <td>0</td>\n",
       "      <td>0</td>\n",
       "      <td>3.62500</td>\n",
       "      <td>0.329545</td>\n",
       "      <td>1</td>\n",
       "    </tr>\n",
       "    <tr>\n",
       "      <th>1</th>\n",
       "      <td>1.0</td>\n",
       "      <td>1</td>\n",
       "      <td>female</td>\n",
       "      <td>38.0</td>\n",
       "      <td>1</td>\n",
       "      <td>0</td>\n",
       "      <td>71.2833</td>\n",
       "      <td>C</td>\n",
       "      <td>1</td>\n",
       "      <td>C</td>\n",
       "      <td>Mrs</td>\n",
       "      <td>2</td>\n",
       "      <td>0</td>\n",
       "      <td>1</td>\n",
       "      <td>0</td>\n",
       "      <td>0</td>\n",
       "      <td>35.64165</td>\n",
       "      <td>1.875876</td>\n",
       "      <td>2</td>\n",
       "    </tr>\n",
       "    <tr>\n",
       "      <th>2</th>\n",
       "      <td>1.0</td>\n",
       "      <td>3</td>\n",
       "      <td>female</td>\n",
       "      <td>26.0</td>\n",
       "      <td>0</td>\n",
       "      <td>0</td>\n",
       "      <td>7.9250</td>\n",
       "      <td>S</td>\n",
       "      <td>3</td>\n",
       "      <td>C</td>\n",
       "      <td>Miss</td>\n",
       "      <td>1</td>\n",
       "      <td>1</td>\n",
       "      <td>1</td>\n",
       "      <td>0</td>\n",
       "      <td>0</td>\n",
       "      <td>7.92500</td>\n",
       "      <td>0.304808</td>\n",
       "      <td>1</td>\n",
       "    </tr>\n",
       "    <tr>\n",
       "      <th>3</th>\n",
       "      <td>1.0</td>\n",
       "      <td>1</td>\n",
       "      <td>female</td>\n",
       "      <td>35.0</td>\n",
       "      <td>1</td>\n",
       "      <td>0</td>\n",
       "      <td>53.1000</td>\n",
       "      <td>S</td>\n",
       "      <td>1</td>\n",
       "      <td>C</td>\n",
       "      <td>Mrs</td>\n",
       "      <td>2</td>\n",
       "      <td>0</td>\n",
       "      <td>0</td>\n",
       "      <td>0</td>\n",
       "      <td>0</td>\n",
       "      <td>26.55000</td>\n",
       "      <td>1.517143</td>\n",
       "      <td>2</td>\n",
       "    </tr>\n",
       "    <tr>\n",
       "      <th>4</th>\n",
       "      <td>0.0</td>\n",
       "      <td>3</td>\n",
       "      <td>male</td>\n",
       "      <td>35.0</td>\n",
       "      <td>0</td>\n",
       "      <td>0</td>\n",
       "      <td>8.0500</td>\n",
       "      <td>S</td>\n",
       "      <td>3</td>\n",
       "      <td>C</td>\n",
       "      <td>Mr</td>\n",
       "      <td>1</td>\n",
       "      <td>1</td>\n",
       "      <td>0</td>\n",
       "      <td>0</td>\n",
       "      <td>0</td>\n",
       "      <td>8.05000</td>\n",
       "      <td>0.230000</td>\n",
       "      <td>1</td>\n",
       "    </tr>\n",
       "  </tbody>\n",
       "</table>\n",
       "</div>"
      ],
      "text/plain": [
       "   Survived  Pclass     Sex   Age  SibSp  Parch     Fare Embarked  \\\n",
       "0       0.0       3    male  22.0      1      0   7.2500        S   \n",
       "1       1.0       1  female  38.0      1      0  71.2833        C   \n",
       "2       1.0       3  female  26.0      0      0   7.9250        S   \n",
       "3       1.0       1  female  35.0      1      0  53.1000        S   \n",
       "4       0.0       3    male  35.0      0      0   8.0500        S   \n",
       "\n",
       "   cells_count Cabin_letter Title  FamilySize  Is Alone  \\\n",
       "0            3            C    Mr           2         0   \n",
       "1            1            C   Mrs           2         0   \n",
       "2            3            C  Miss           1         1   \n",
       "3            1            C   Mrs           2         0   \n",
       "4            3            C    Mr           1         1   \n",
       "\n",
       "   Is Special Agent/route  TicketBatch  SharedTicket  Fare per Person  \\\n",
       "0                       1            0             0          3.62500   \n",
       "1                       1            0             0         35.64165   \n",
       "2                       1            0             0          7.92500   \n",
       "3                       0            0             0         26.55000   \n",
       "4                       0            0             0          8.05000   \n",
       "\n",
       "   Fare per Age  Tickets counts  \n",
       "0      0.329545               1  \n",
       "1      1.875876               2  \n",
       "2      0.304808               1  \n",
       "3      1.517143               2  \n",
       "4      0.230000               1  "
      ]
     },
     "execution_count": 5,
     "metadata": {},
     "output_type": "execute_result"
    }
   ],
   "source": [
    "# Preview the training data\n",
    "train_logistic_df.head() # take a look on training data"
   ]
  },
  {
   "cell_type": "code",
   "execution_count": 6,
   "id": "b382225b",
   "metadata": {},
   "outputs": [
    {
     "name": "stdout",
     "output_type": "stream",
     "text": [
      "Column: Sex\n",
      " \n",
      " ['male' 'female'] \n",
      " Count:  {2}\n",
      "Column: Embarked\n",
      " \n",
      " ['S' 'C' 'Q'] \n",
      " Count:  {3}\n",
      "Column: Cabin_letter\n",
      " \n",
      " ['C' 'E' 'G' 'D' 'A' 'B' 'F' 'F-G' 'F-E' 'T'] \n",
      " Count:  {10}\n",
      "Column: Title\n",
      " \n",
      " ['Mr' 'Mrs' 'Miss' 'Master' 'Others'] \n",
      " Count:  {5}\n"
     ]
    }
   ],
   "source": [
    "# Show all unique values of categorical columns to determine encoding strategy\n",
    "for col in train_logistic_df.select_dtypes('O').columns: # show all unique values of all categorical data to see the best encoding for them\n",
    "    print(f'Column: {col}\\n \\n',train_logistic_df[col].unique(),'\\n Count: ' , {len(train_logistic_df[col].unique())})"
   ]
  },
  {
   "cell_type": "markdown",
   "id": "c5954d6e",
   "metadata": {},
   "source": [
    "One Hot Encoding will be used on all categorical columns"
   ]
  },
  {
   "cell_type": "code",
   "execution_count": 7,
   "id": "adcd7cee",
   "metadata": {},
   "outputs": [
    {
     "name": "stdout",
     "output_type": "stream",
     "text": [
      "<class 'pandas.core.frame.DataFrame'>\n",
      "Index: 891 entries, 0 to 890\n",
      "Data columns (total 19 columns):\n",
      " #   Column                  Non-Null Count  Dtype  \n",
      "---  ------                  --------------  -----  \n",
      " 0   Survived                891 non-null    float64\n",
      " 1   Pclass                  891 non-null    int64  \n",
      " 2   Sex                     891 non-null    object \n",
      " 3   Age                     891 non-null    float64\n",
      " 4   SibSp                   891 non-null    int64  \n",
      " 5   Parch                   891 non-null    int64  \n",
      " 6   Fare                    891 non-null    float64\n",
      " 7   Embarked                891 non-null    object \n",
      " 8   cells_count             891 non-null    int64  \n",
      " 9   Cabin_letter            891 non-null    object \n",
      " 10  Title                   891 non-null    object \n",
      " 11  FamilySize              891 non-null    int64  \n",
      " 12  Is Alone                891 non-null    int64  \n",
      " 13  Is Special Agent/route  891 non-null    int64  \n",
      " 14  TicketBatch             891 non-null    int64  \n",
      " 15  SharedTicket            891 non-null    int64  \n",
      " 16  Fare per Person         891 non-null    float64\n",
      " 17  Fare per Age            891 non-null    float64\n",
      " 18  Tickets counts          891 non-null    int64  \n",
      "dtypes: float64(5), int64(10), object(4)\n",
      "memory usage: 139.2+ KB\n"
     ]
    }
   ],
   "source": [
    "# Check info of the training data\n",
    "train_logistic_df.info()"
   ]
  },
  {
   "cell_type": "code",
   "execution_count": 8,
   "id": "f481ec60",
   "metadata": {},
   "outputs": [
    {
     "data": {
      "text/plain": [
       "'(float64 --> int64)'"
      ]
     },
     "execution_count": 8,
     "metadata": {},
     "output_type": "execute_result"
    }
   ],
   "source": [
    "# Convert 'Survived' column data type from float64 to int64\n",
    "train_logistic_df['Survived'] = train_logistic_df['Survived'].astype(int) # convert survived data type \n",
    "\"\"\"(float64 --> int64)\"\"\""
   ]
  },
  {
   "cell_type": "code",
   "execution_count": 9,
   "id": "c202fa1b",
   "metadata": {},
   "outputs": [
    {
     "data": {
      "text/plain": [
       "dtype('int64')"
      ]
     },
     "execution_count": 9,
     "metadata": {},
     "output_type": "execute_result"
    }
   ],
   "source": [
    "# Confirm the data type conversion\n",
    "train_logistic_df['Survived'].dtype"
   ]
  },
  {
   "cell_type": "code",
   "execution_count": 10,
   "id": "58145035",
   "metadata": {},
   "outputs": [
    {
     "data": {
      "text/html": [
       "<div>\n",
       "<style scoped>\n",
       "    .dataframe tbody tr th:only-of-type {\n",
       "        vertical-align: middle;\n",
       "    }\n",
       "\n",
       "    .dataframe tbody tr th {\n",
       "        vertical-align: top;\n",
       "    }\n",
       "\n",
       "    .dataframe thead th {\n",
       "        text-align: right;\n",
       "    }\n",
       "</style>\n",
       "<table border=\"1\" class=\"dataframe\">\n",
       "  <thead>\n",
       "    <tr style=\"text-align: right;\">\n",
       "      <th></th>\n",
       "      <th>PassengerId</th>\n",
       "      <th>Pclass</th>\n",
       "      <th>Sex</th>\n",
       "      <th>Age</th>\n",
       "      <th>SibSp</th>\n",
       "      <th>Parch</th>\n",
       "      <th>Fare</th>\n",
       "      <th>Embarked</th>\n",
       "      <th>cells_count</th>\n",
       "      <th>Cabin_letter</th>\n",
       "      <th>Title</th>\n",
       "      <th>FamilySize</th>\n",
       "      <th>Is Alone</th>\n",
       "      <th>Is Special Agent/route</th>\n",
       "      <th>TicketBatch</th>\n",
       "      <th>SharedTicket</th>\n",
       "      <th>Fare per Person</th>\n",
       "      <th>Fare per Age</th>\n",
       "      <th>Tickets counts</th>\n",
       "    </tr>\n",
       "  </thead>\n",
       "  <tbody>\n",
       "    <tr>\n",
       "      <th>891</th>\n",
       "      <td>892</td>\n",
       "      <td>3</td>\n",
       "      <td>male</td>\n",
       "      <td>34.5</td>\n",
       "      <td>0</td>\n",
       "      <td>0</td>\n",
       "      <td>7.8292</td>\n",
       "      <td>Q</td>\n",
       "      <td>3</td>\n",
       "      <td>C</td>\n",
       "      <td>Mr</td>\n",
       "      <td>1</td>\n",
       "      <td>1</td>\n",
       "      <td>0</td>\n",
       "      <td>0</td>\n",
       "      <td>0</td>\n",
       "      <td>7.829200</td>\n",
       "      <td>0.226933</td>\n",
       "      <td>1</td>\n",
       "    </tr>\n",
       "    <tr>\n",
       "      <th>892</th>\n",
       "      <td>893</td>\n",
       "      <td>3</td>\n",
       "      <td>female</td>\n",
       "      <td>47.0</td>\n",
       "      <td>1</td>\n",
       "      <td>0</td>\n",
       "      <td>7.0000</td>\n",
       "      <td>S</td>\n",
       "      <td>3</td>\n",
       "      <td>C</td>\n",
       "      <td>Mrs</td>\n",
       "      <td>2</td>\n",
       "      <td>0</td>\n",
       "      <td>0</td>\n",
       "      <td>0</td>\n",
       "      <td>0</td>\n",
       "      <td>3.500000</td>\n",
       "      <td>0.148936</td>\n",
       "      <td>1</td>\n",
       "    </tr>\n",
       "    <tr>\n",
       "      <th>893</th>\n",
       "      <td>894</td>\n",
       "      <td>2</td>\n",
       "      <td>male</td>\n",
       "      <td>62.0</td>\n",
       "      <td>0</td>\n",
       "      <td>0</td>\n",
       "      <td>9.6875</td>\n",
       "      <td>Q</td>\n",
       "      <td>3</td>\n",
       "      <td>C</td>\n",
       "      <td>Mr</td>\n",
       "      <td>1</td>\n",
       "      <td>1</td>\n",
       "      <td>0</td>\n",
       "      <td>0</td>\n",
       "      <td>0</td>\n",
       "      <td>9.687500</td>\n",
       "      <td>0.156250</td>\n",
       "      <td>1</td>\n",
       "    </tr>\n",
       "    <tr>\n",
       "      <th>894</th>\n",
       "      <td>895</td>\n",
       "      <td>3</td>\n",
       "      <td>male</td>\n",
       "      <td>27.0</td>\n",
       "      <td>0</td>\n",
       "      <td>0</td>\n",
       "      <td>8.6625</td>\n",
       "      <td>S</td>\n",
       "      <td>3</td>\n",
       "      <td>C</td>\n",
       "      <td>Mr</td>\n",
       "      <td>1</td>\n",
       "      <td>1</td>\n",
       "      <td>0</td>\n",
       "      <td>0</td>\n",
       "      <td>0</td>\n",
       "      <td>8.662500</td>\n",
       "      <td>0.320833</td>\n",
       "      <td>1</td>\n",
       "    </tr>\n",
       "    <tr>\n",
       "      <th>895</th>\n",
       "      <td>896</td>\n",
       "      <td>3</td>\n",
       "      <td>female</td>\n",
       "      <td>22.0</td>\n",
       "      <td>1</td>\n",
       "      <td>1</td>\n",
       "      <td>12.2875</td>\n",
       "      <td>S</td>\n",
       "      <td>3</td>\n",
       "      <td>C</td>\n",
       "      <td>Mrs</td>\n",
       "      <td>3</td>\n",
       "      <td>0</td>\n",
       "      <td>0</td>\n",
       "      <td>0</td>\n",
       "      <td>1</td>\n",
       "      <td>4.095833</td>\n",
       "      <td>0.558523</td>\n",
       "      <td>2</td>\n",
       "    </tr>\n",
       "  </tbody>\n",
       "</table>\n",
       "</div>"
      ],
      "text/plain": [
       "     PassengerId  Pclass     Sex   Age  SibSp  Parch     Fare Embarked  \\\n",
       "891          892       3    male  34.5      0      0   7.8292        Q   \n",
       "892          893       3  female  47.0      1      0   7.0000        S   \n",
       "893          894       2    male  62.0      0      0   9.6875        Q   \n",
       "894          895       3    male  27.0      0      0   8.6625        S   \n",
       "895          896       3  female  22.0      1      1  12.2875        S   \n",
       "\n",
       "     cells_count Cabin_letter Title  FamilySize  Is Alone  \\\n",
       "891            3            C    Mr           1         1   \n",
       "892            3            C   Mrs           2         0   \n",
       "893            3            C    Mr           1         1   \n",
       "894            3            C    Mr           1         1   \n",
       "895            3            C   Mrs           3         0   \n",
       "\n",
       "     Is Special Agent/route  TicketBatch  SharedTicket  Fare per Person  \\\n",
       "891                       0            0             0         7.829200   \n",
       "892                       0            0             0         3.500000   \n",
       "893                       0            0             0         9.687500   \n",
       "894                       0            0             0         8.662500   \n",
       "895                       0            0             1         4.095833   \n",
       "\n",
       "     Fare per Age  Tickets counts  \n",
       "891      0.226933               1  \n",
       "892      0.148936               1  \n",
       "893      0.156250               1  \n",
       "894      0.320833               1  \n",
       "895      0.558523               2  "
      ]
     },
     "execution_count": 10,
     "metadata": {},
     "output_type": "execute_result"
    }
   ],
   "source": [
    "# Preview the prediction data\n",
    "predict_df.head()"
   ]
  },
  {
   "cell_type": "code",
   "execution_count": 11,
   "id": "5217e49c",
   "metadata": {},
   "outputs": [
    {
     "data": {
      "text/plain": [
       "array([3, 1, 2, 0, 4])"
      ]
     },
     "execution_count": 11,
     "metadata": {},
     "output_type": "execute_result"
    }
   ],
   "source": [
    "# see cells count\n",
    "\n",
    "train_logistic_df['cells_count'].unique()"
   ]
  },
  {
   "cell_type": "code",
   "execution_count": 12,
   "id": "2c76ee8c",
   "metadata": {},
   "outputs": [
    {
     "name": "stdout",
     "output_type": "stream",
     "text": [
      "<class 'pandas.core.frame.DataFrame'>\n",
      "Index: 418 entries, 891 to 1308\n",
      "Data columns (total 19 columns):\n",
      " #   Column                  Non-Null Count  Dtype  \n",
      "---  ------                  --------------  -----  \n",
      " 0   PassengerId             418 non-null    int64  \n",
      " 1   Pclass                  418 non-null    int64  \n",
      " 2   Sex                     418 non-null    object \n",
      " 3   Age                     418 non-null    float64\n",
      " 4   SibSp                   418 non-null    int64  \n",
      " 5   Parch                   418 non-null    int64  \n",
      " 6   Fare                    418 non-null    float64\n",
      " 7   Embarked                418 non-null    object \n",
      " 8   cells_count             418 non-null    int64  \n",
      " 9   Cabin_letter            418 non-null    object \n",
      " 10  Title                   418 non-null    object \n",
      " 11  FamilySize              418 non-null    int64  \n",
      " 12  Is Alone                418 non-null    int64  \n",
      " 13  Is Special Agent/route  418 non-null    int64  \n",
      " 14  TicketBatch             418 non-null    int64  \n",
      " 15  SharedTicket            418 non-null    int64  \n",
      " 16  Fare per Person         418 non-null    float64\n",
      " 17  Fare per Age            418 non-null    float64\n",
      " 18  Tickets counts          418 non-null    int64  \n",
      "dtypes: float64(4), int64(11), object(4)\n",
      "memory usage: 65.3+ KB\n"
     ]
    }
   ],
   "source": [
    "# Check info of the prediction data\n",
    "predict_df.info()"
   ]
  },
  {
   "cell_type": "code",
   "execution_count": 13,
   "id": "7c012147",
   "metadata": {},
   "outputs": [],
   "source": [
    "# Split features and target variable\n",
    "x = train_logistic_df.drop(['Survived'] , axis=1)\n",
    "y = train_logistic_df['Survived'] # our dependent variable\n",
    "\n",
    "\n",
    "X_train , X_test , y_train , y_test = train_test_split(x , y , test_size=0.2 , random_state=42 , stratify=y)"
   ]
  },
  {
   "cell_type": "markdown",
   "id": "8107570b",
   "metadata": {},
   "source": [
    "#### Transforming the features"
   ]
  },
  {
   "cell_type": "markdown",
   "id": "05ad542f",
   "metadata": {},
   "source": [
    "##### Spliting features to categorical and numerical"
   ]
  },
  {
   "cell_type": "code",
   "execution_count": 14,
   "id": "e750042e",
   "metadata": {},
   "outputs": [
    {
     "name": "stdout",
     "output_type": "stream",
     "text": [
      "numerical features:  ['Age', 'cells_count', 'Fare per Person', 'Fare per Age', 'Tickets counts']\n",
      "categorical features:  ['Sex', 'Embarked', 'Cabin_letter', 'Title']\n"
     ]
    }
   ],
   "source": [
    "standard_numerical_features = ['Age' , 'cells_count' , 'Fare per Person' , 'Fare per Age' , 'Tickets counts'] # numerical featueres that will standardrized\n",
    "categorical_features = x.select_dtypes('O').columns.tolist()\n",
    "\n",
    "\n",
    "print('numerical features: ' , standard_numerical_features)\n",
    "print('categorical features: ', categorical_features)"
   ]
  },
  {
   "cell_type": "code",
   "execution_count": 15,
   "id": "dd31fee1",
   "metadata": {},
   "outputs": [],
   "source": [
    "# column transformer algorithm\n",
    "\n",
    "preprocessor = ColumnTransformer(\n",
    "    transformers=[\n",
    "    ('standard_scaler', StandardScaler(), standard_numerical_features),  # transform to  standard scale\n",
    "    ('fare', RobustScaler(), ['Fare']),   # transform to robust scale becuase of outlires \n",
    "    ('cat', OneHotEncoder(handle_unknown='ignore' ,drop='first' , dtype=int), categorical_features)\n",
    "    ]\n",
    ")"
   ]
  },
  {
   "cell_type": "markdown",
   "id": "8289a2b2",
   "metadata": {},
   "source": [
    "#### Model training with hyperparmeter"
   ]
  },
  {
   "cell_type": "code",
   "execution_count": 16,
   "id": "38a9f0ac",
   "metadata": {},
   "outputs": [],
   "source": [
    "# import feature selector \n",
    "from sklearn.feature_selection import SelectFromModel\n",
    "pipeline = Pipeline(steps=[\n",
    "    ('preprocessor' , preprocessor),\n",
    "    ('logit' , LogisticRegression(random_state=42 , class_weight='balanced'))\n",
    "]) # makeing model"
   ]
  },
  {
   "cell_type": "code",
   "execution_count": null,
   "id": "f2db7958",
   "metadata": {},
   "outputs": [
    {
     "name": "stdout",
     "output_type": "stream",
     "text": [
      "Fitting 5 folds for each of 1440 candidates, totalling 7200 fits\n"
     ]
    }
   ],
   "source": [
    "# Hyperparameters tuning \n",
    "from sklearn.metrics import accuracy_score , f1_score , make_scorer , precision_score , recall_score\n",
    "# scoring dict \n",
    "scoring = {\n",
    "    'accuracy' : make_scorer(accuracy_score),\n",
    "    'f1_score' : make_scorer(f1_score , pos_label=1),\n",
    "    'precision': make_scorer(precision_score ),\n",
    "    'recall' : make_scorer(recall_score )\n",
    "}\n",
    "    # hyperparameters\n",
    "param_grid = {\n",
    "    'logit__solver': ['liblinear', 'lbfgs', 'saga'],\n",
    "    'logit__C': np.logspace(-4, 4, 20),\n",
    "    'logit__max_iter': [100, 1000, 2500, 5000],\n",
    "    'logit__penalty': ['l1', 'l2', 'elasticnet'],\n",
    "    'logit__fit_intercept': [True, False]\n",
    "}\n",
    "\n",
    "# grid search algorithm to find best hyperparameter\n",
    "grid_search = GridSearchCV(pipeline ,\n",
    "                           param_grid ,\n",
    "                           cv=5 ,\n",
    "                           scoring=scoring ,\n",
    "                           refit='f1_score' , \n",
    "                           n_jobs=-1 , \n",
    "                           verbose=1)\n",
    "\n",
    "grid_search.fit(X_train , y_train) # fit the model"
   ]
  },
  {
   "cell_type": "code",
   "execution_count": null,
   "id": "38a5a323",
   "metadata": {},
   "outputs": [
    {
     "name": "stdout",
     "output_type": "stream",
     "text": [
      "Best hyperparameters found: {'logit__C': np.float64(1.473684210526315), 'logit__max_iter': 100, 'logit__penalty': 'l1', 'logit__solver': 'saga'}\n",
      "\n",
      "Best cross valdiation f1 socres: 0.7407\n"
     ]
    }
   ],
   "source": [
    "print(f'Best hyperparameters found: {grid_search.best_params_}')\n",
    "print(f'\\nBest cross valdiation f1 socres: {grid_search.best_score_:.4f}')"
   ]
  },
  {
   "cell_type": "markdown",
   "id": "e3a89516",
   "metadata": {},
   "source": [
    "### Model Testing\n",
    "\n",
    "Test the Logistic Regression model using the processed features."
   ]
  },
  {
   "cell_type": "code",
   "execution_count": null,
   "id": "9bfbdd9e",
   "metadata": {
    "notebookRunGroups": {
     "groupValue": "2"
    }
   },
   "outputs": [],
   "source": [
    "# Test the Logistic Regression model\n",
    "logit = grid_search.best_estimator_ "
   ]
  },
  {
   "cell_type": "code",
   "execution_count": null,
   "id": "7935c500",
   "metadata": {},
   "outputs": [
    {
     "name": "stdout",
     "output_type": "stream",
     "text": [
      "CV=5 , random_state=42 , shuffel=True\n",
      "accuracy:  0.7865359992120556\n",
      "f1:  0.7433964006826448\n",
      "   Accuracy score  F1 score\n",
      "0        0.790210  0.765625\n",
      "1        0.769231  0.727273\n",
      "2        0.739437  0.672566\n",
      "3        0.866197  0.828829\n",
      "4        0.767606  0.722689\n"
     ]
    }
   ],
   "source": [
    "# Evaluate model using cross-validation for accuracy and F1 score\n",
    "accuracy , f1 = accuracy_f1_scores(X_train , y_train , logit)"
   ]
  },
  {
   "cell_type": "markdown",
   "id": "7649c2ec",
   "metadata": {},
   "source": [
    "### Model Evaluation\n",
    "\n",
    "Check model performance and drop percentages."
   ]
  },
  {
   "cell_type": "code",
   "execution_count": null,
   "id": "fbee2a41",
   "metadata": {},
   "outputs": [
    {
     "name": "stdout",
     "output_type": "stream",
     "text": [
      "Accuracy drop percentage:  -2.4%\n",
      "F1 drop percentages:  -3.9%\n"
     ]
    }
   ],
   "source": [
    "# Calculate accuracy and F1 drop percentages, and get predictions on the test set\n",
    "accuracy_DP , f1_DP , y_pred = drop_percentages(X_test , y_test , logit , accuracy , f1).values()\n",
    "\n",
    "print('Accuracy drop percentage: ', accuracy_DP)\n",
    "print('F1 drop percentages: ' , f1_DP)"
   ]
  },
  {
   "cell_type": "code",
   "execution_count": null,
   "id": "942e3fd8",
   "metadata": {},
   "outputs": [],
   "source": [
    "y_pred = logit.predict(X_test)"
   ]
  },
  {
   "cell_type": "code",
   "execution_count": null,
   "id": "fcff988e",
   "metadata": {},
   "outputs": [
    {
     "name": "stdout",
     "output_type": "stream",
     "text": [
      "              precision    recall  f1-score   support\n",
      "\n",
      "           0       0.91      0.76      0.83       110\n",
      "           1       0.70      0.88      0.78        69\n",
      "\n",
      "    accuracy                           0.81       179\n",
      "   macro avg       0.81      0.82      0.81       179\n",
      "weighted avg       0.83      0.81      0.81       179\n",
      "\n"
     ]
    }
   ],
   "source": [
    "# Show classification report for predictions on the test set\n",
    "print(classification_report(y_test , y_pred)) # seeing final report"
   ]
  },
  {
   "cell_type": "code",
   "execution_count": null,
   "id": "19a5033c",
   "metadata": {},
   "outputs": [
    {
     "data": {
      "image/png": "[encoded data removed]",
      "text/plain": [
       "<Figure size 640x480 with 1 Axes>"
      ]
     },
     "metadata": {},
     "output_type": "display_data"
    }
   ],
   "source": [
    "# Plot precision-recall curve to help select an optimal threshold\n",
    "from sklearn.metrics import precision_recall_curve \n",
    "\n",
    "y_probs = logit.predict_proba(X_test)[:, 1]  # get probability of class 1\n",
    "\n",
    "# calculate precision, recall and thresholds\n",
    "precision, recall, thresholds = precision_recall_curve(y_test, y_probs)\n",
    "\n",
    "plt.plot(thresholds, precision[:-1], label='Precision')\n",
    "plt.plot(thresholds, recall[:-1], label=\"Recall\")\n",
    "\n",
    "plt.xlabel(\"Threshold\")\n",
    "plt.ylabel(\"Score\")\n",
    "plt.title(\"Precision-Recall vs Threshold\")\n",
    "plt.legend()\n",
    "plt.grid(True)\n",
    "plt.show()"
   ]
  },
  {
   "cell_type": "markdown",
   "id": "70a91511",
   "metadata": {},
   "source": [
    "Select the threshold where precision and recall curves intersect for optimal balance."
   ]
  },
  {
   "cell_type": "code",
   "execution_count": null,
   "id": "2cac7614",
   "metadata": {},
   "outputs": [
    {
     "name": "stdout",
     "output_type": "stream",
     "text": [
      "              precision    recall  f1-score   support\n",
      "\n",
      "           0       0.88      0.85      0.86       110\n",
      "           1       0.77      0.81      0.79        69\n",
      "\n",
      "    accuracy                           0.83       179\n",
      "   macro avg       0.82      0.83      0.82       179\n",
      "weighted avg       0.83      0.83      0.83       179\n",
      "\n"
     ]
    }
   ],
   "source": [
    "# Find best threshold\n",
    "y_pred_custom  =  y_probs >= 0.6\n",
    "print(classification_report(y_test, y_pred_custom))"
   ]
  },
  {
   "cell_type": "markdown",
   "id": "1fbc9d0d",
   "metadata": {},
   "source": [
    "### Model Results\n",
    "\n",
    "- Accuracy: ≈ 77%\n",
    "- F1: ≈ 76%\n",
    "- Model is balanced\n",
    "- No signs of overfitting or underfitting\n",
    "\n",
    "> This model is well-fitted and strong."
   ]
  },
  {
   "cell_type": "markdown",
   "id": "06fdf4fd",
   "metadata": {},
   "source": [
    "The model is now tuned and ready for ensembling with other models."
   ]
  },
  {
   "cell_type": "code",
   "execution_count": null,
   "id": "ba3192b3",
   "metadata": {},
   "outputs": [
    {
     "data": {
      "text/plain": [
       "[Text(0, 0.5, 'Not survived'), Text(0, 1.5, 'Survived')]"
      ]
     },
     "execution_count": 300,
     "metadata": {},
     "output_type": "execute_result"
    },
    {
     "data": {
      "image/png": "[encoded data removed]",
      "text/plain": [
       "<Figure size 640x480 with 2 Axes>"
      ]
     },
     "metadata": {},
     "output_type": "display_data"
    }
   ],
   "source": [
    "# Plot confusion matrix for the custom threshold predictions\n",
    "cm = confusion_matrix(y_test , y_pred_custom)\n",
    "plt.title('Y truth vs Y predicted')\n",
    "ax = sns.heatmap(cm ,annot=True)\n",
    "plt.xlabel('Y predicted')\n",
    "plt.ylabel('Y truth')\n",
    "ax.set_xticklabels(['Not survived' , 'Survived'])\n",
    "ax.set_yticklabels(['Not survived' , 'Survived'])"
   ]
  },
  {
   "cell_type": "code",
   "execution_count": null,
   "id": "b7239ec4",
   "metadata": {},
   "outputs": [
    {
     "data": {
      "text/html": [
       "<div>\n",
       "<style scoped>\n",
       "    .dataframe tbody tr th:only-of-type {\n",
       "        vertical-align: middle;\n",
       "    }\n",
       "\n",
       "    .dataframe tbody tr th {\n",
       "        vertical-align: top;\n",
       "    }\n",
       "\n",
       "    .dataframe thead th {\n",
       "        text-align: right;\n",
       "    }\n",
       "</style>\n",
       "<table border=\"1\" class=\"dataframe\">\n",
       "  <thead>\n",
       "    <tr style=\"text-align: right;\">\n",
       "      <th></th>\n",
       "      <th>Pclass</th>\n",
       "      <th>Sex</th>\n",
       "      <th>Age</th>\n",
       "      <th>SibSp</th>\n",
       "      <th>Parch</th>\n",
       "      <th>Fare</th>\n",
       "      <th>Embarked</th>\n",
       "      <th>cells_count</th>\n",
       "      <th>Cabin_letter</th>\n",
       "      <th>Title</th>\n",
       "      <th>FamilySize</th>\n",
       "      <th>Is Alone</th>\n",
       "      <th>Is Special Agent/route</th>\n",
       "      <th>TicketBatch</th>\n",
       "      <th>SharedTicket</th>\n",
       "    </tr>\n",
       "  </thead>\n",
       "  <tbody>\n",
       "    <tr>\n",
       "      <th>0</th>\n",
       "      <td>3</td>\n",
       "      <td>male</td>\n",
       "      <td>22.0</td>\n",
       "      <td>1</td>\n",
       "      <td>0</td>\n",
       "      <td>7.2500</td>\n",
       "      <td>S</td>\n",
       "      <td>3</td>\n",
       "      <td>C</td>\n",
       "      <td>Mr</td>\n",
       "      <td>1</td>\n",
       "      <td>0</td>\n",
       "      <td>1</td>\n",
       "      <td>0</td>\n",
       "      <td>0</td>\n",
       "    </tr>\n",
       "    <tr>\n",
       "      <th>1</th>\n",
       "      <td>1</td>\n",
       "      <td>female</td>\n",
       "      <td>38.0</td>\n",
       "      <td>1</td>\n",
       "      <td>0</td>\n",
       "      <td>71.2833</td>\n",
       "      <td>C</td>\n",
       "      <td>1</td>\n",
       "      <td>C</td>\n",
       "      <td>Mrs</td>\n",
       "      <td>1</td>\n",
       "      <td>0</td>\n",
       "      <td>1</td>\n",
       "      <td>0</td>\n",
       "      <td>0</td>\n",
       "    </tr>\n",
       "    <tr>\n",
       "      <th>2</th>\n",
       "      <td>3</td>\n",
       "      <td>female</td>\n",
       "      <td>26.0</td>\n",
       "      <td>0</td>\n",
       "      <td>0</td>\n",
       "      <td>7.9250</td>\n",
       "      <td>S</td>\n",
       "      <td>3</td>\n",
       "      <td>C</td>\n",
       "      <td>Miss</td>\n",
       "      <td>0</td>\n",
       "      <td>1</td>\n",
       "      <td>1</td>\n",
       "      <td>0</td>\n",
       "      <td>0</td>\n",
       "    </tr>\n",
       "    <tr>\n",
       "      <th>3</th>\n",
       "      <td>1</td>\n",
       "      <td>female</td>\n",
       "      <td>35.0</td>\n",
       "      <td>1</td>\n",
       "      <td>0</td>\n",
       "      <td>53.1000</td>\n",
       "      <td>S</td>\n",
       "      <td>1</td>\n",
       "      <td>C</td>\n",
       "      <td>Mrs</td>\n",
       "      <td>1</td>\n",
       "      <td>0</td>\n",
       "      <td>0</td>\n",
       "      <td>0</td>\n",
       "      <td>0</td>\n",
       "    </tr>\n",
       "    <tr>\n",
       "      <th>4</th>\n",
       "      <td>3</td>\n",
       "      <td>male</td>\n",
       "      <td>35.0</td>\n",
       "      <td>0</td>\n",
       "      <td>0</td>\n",
       "      <td>8.0500</td>\n",
       "      <td>S</td>\n",
       "      <td>3</td>\n",
       "      <td>C</td>\n",
       "      <td>Mr</td>\n",
       "      <td>0</td>\n",
       "      <td>1</td>\n",
       "      <td>0</td>\n",
       "      <td>0</td>\n",
       "      <td>0</td>\n",
       "    </tr>\n",
       "  </tbody>\n",
       "</table>\n",
       "</div>"
      ],
      "text/plain": [
       "   Pclass     Sex   Age  SibSp  Parch     Fare Embarked  cells_count  \\\n",
       "0       3    male  22.0      1      0   7.2500        S            3   \n",
       "1       1  female  38.0      1      0  71.2833        C            1   \n",
       "2       3  female  26.0      0      0   7.9250        S            3   \n",
       "3       1  female  35.0      1      0  53.1000        S            1   \n",
       "4       3    male  35.0      0      0   8.0500        S            3   \n",
       "\n",
       "  Cabin_letter Title  FamilySize  Is Alone  Is Special Agent/route  \\\n",
       "0            C    Mr           1         0                       1   \n",
       "1            C   Mrs           1         0                       1   \n",
       "2            C  Miss           0         1                       1   \n",
       "3            C   Mrs           1         0                       0   \n",
       "4            C    Mr           0         1                       0   \n",
       "\n",
       "   TicketBatch  SharedTicket  \n",
       "0            0             0  \n",
       "1            0             0  \n",
       "2            0             0  \n",
       "3            0             0  \n",
       "4            0             0  "
      ]
     },
     "execution_count": 301,
     "metadata": {},
     "output_type": "execute_result"
    }
   ],
   "source": [
    "# Preview processed features\n",
    "x.head()"
   ]
  },
  {
   "cell_type": "code",
   "execution_count": null,
   "id": "7fd0ee22",
   "metadata": {},
   "outputs": [
    {
     "data": {
      "text/html": [
       "<div>\n",
       "<style scoped>\n",
       "    .dataframe tbody tr th:only-of-type {\n",
       "        vertical-align: middle;\n",
       "    }\n",
       "\n",
       "    .dataframe tbody tr th {\n",
       "        vertical-align: top;\n",
       "    }\n",
       "\n",
       "    .dataframe thead th {\n",
       "        text-align: right;\n",
       "    }\n",
       "</style>\n",
       "<table border=\"1\" class=\"dataframe\">\n",
       "  <thead>\n",
       "    <tr style=\"text-align: right;\">\n",
       "      <th></th>\n",
       "      <th>PassengerId</th>\n",
       "      <th>Pclass</th>\n",
       "      <th>Sex</th>\n",
       "      <th>Age</th>\n",
       "      <th>SibSp</th>\n",
       "      <th>Parch</th>\n",
       "      <th>Fare</th>\n",
       "      <th>Embarked</th>\n",
       "      <th>cells_count</th>\n",
       "      <th>Cabin_letter</th>\n",
       "      <th>Title</th>\n",
       "      <th>FamilySize</th>\n",
       "      <th>Is Alone</th>\n",
       "      <th>Is Special Agent/route</th>\n",
       "      <th>TicketBatch</th>\n",
       "      <th>SharedTicket</th>\n",
       "    </tr>\n",
       "  </thead>\n",
       "  <tbody>\n",
       "    <tr>\n",
       "      <th>891</th>\n",
       "      <td>892</td>\n",
       "      <td>3</td>\n",
       "      <td>male</td>\n",
       "      <td>34.5</td>\n",
       "      <td>0</td>\n",
       "      <td>0</td>\n",
       "      <td>7.8292</td>\n",
       "      <td>Q</td>\n",
       "      <td>3</td>\n",
       "      <td>C</td>\n",
       "      <td>Mr</td>\n",
       "      <td>0</td>\n",
       "      <td>1</td>\n",
       "      <td>0</td>\n",
       "      <td>0</td>\n",
       "      <td>0</td>\n",
       "    </tr>\n",
       "    <tr>\n",
       "      <th>892</th>\n",
       "      <td>893</td>\n",
       "      <td>3</td>\n",
       "      <td>female</td>\n",
       "      <td>47.0</td>\n",
       "      <td>1</td>\n",
       "      <td>0</td>\n",
       "      <td>7.0000</td>\n",
       "      <td>S</td>\n",
       "      <td>3</td>\n",
       "      <td>C</td>\n",
       "      <td>Mrs</td>\n",
       "      <td>1</td>\n",
       "      <td>0</td>\n",
       "      <td>0</td>\n",
       "      <td>0</td>\n",
       "      <td>0</td>\n",
       "    </tr>\n",
       "    <tr>\n",
       "      <th>893</th>\n",
       "      <td>894</td>\n",
       "      <td>2</td>\n",
       "      <td>male</td>\n",
       "      <td>62.0</td>\n",
       "      <td>0</td>\n",
       "      <td>0</td>\n",
       "      <td>9.6875</td>\n",
       "      <td>Q</td>\n",
       "      <td>3</td>\n",
       "      <td>C</td>\n",
       "      <td>Mr</td>\n",
       "      <td>0</td>\n",
       "      <td>1</td>\n",
       "      <td>0</td>\n",
       "      <td>0</td>\n",
       "      <td>0</td>\n",
       "    </tr>\n",
       "    <tr>\n",
       "      <th>894</th>\n",
       "      <td>895</td>\n",
       "      <td>3</td>\n",
       "      <td>male</td>\n",
       "      <td>27.0</td>\n",
       "      <td>0</td>\n",
       "      <td>0</td>\n",
       "      <td>8.6625</td>\n",
       "      <td>S</td>\n",
       "      <td>3</td>\n",
       "      <td>C</td>\n",
       "      <td>Mr</td>\n",
       "      <td>0</td>\n",
       "      <td>1</td>\n",
       "      <td>0</td>\n",
       "      <td>0</td>\n",
       "      <td>0</td>\n",
       "    </tr>\n",
       "    <tr>\n",
       "      <th>895</th>\n",
       "      <td>896</td>\n",
       "      <td>3</td>\n",
       "      <td>female</td>\n",
       "      <td>22.0</td>\n",
       "      <td>1</td>\n",
       "      <td>1</td>\n",
       "      <td>12.2875</td>\n",
       "      <td>S</td>\n",
       "      <td>3</td>\n",
       "      <td>C</td>\n",
       "      <td>Mrs</td>\n",
       "      <td>2</td>\n",
       "      <td>0</td>\n",
       "      <td>0</td>\n",
       "      <td>0</td>\n",
       "      <td>1</td>\n",
       "    </tr>\n",
       "  </tbody>\n",
       "</table>\n",
       "</div>"
      ],
      "text/plain": [
       "     PassengerId  Pclass     Sex   Age  SibSp  Parch     Fare Embarked  \\\n",
       "891          892       3    male  34.5      0      0   7.8292        Q   \n",
       "892          893       3  female  47.0      1      0   7.0000        S   \n",
       "893          894       2    male  62.0      0      0   9.6875        Q   \n",
       "894          895       3    male  27.0      0      0   8.6625        S   \n",
       "895          896       3  female  22.0      1      1  12.2875        S   \n",
       "\n",
       "     cells_count Cabin_letter Title  FamilySize  Is Alone  \\\n",
       "891            3            C    Mr           0         1   \n",
       "892            3            C   Mrs           1         0   \n",
       "893            3            C    Mr           0         1   \n",
       "894            3            C    Mr           0         1   \n",
       "895            3            C   Mrs           2         0   \n",
       "\n",
       "     Is Special Agent/route  TicketBatch  SharedTicket  \n",
       "891                       0            0             0  \n",
       "892                       0            0             0  \n",
       "893                       0            0             0  \n",
       "894                       0            0             0  \n",
       "895                       0            0             1  "
      ]
     },
     "execution_count": 302,
     "metadata": {},
     "output_type": "execute_result"
    }
   ],
   "source": [
    "# Preview processed prediction data\n",
    "predict_df.head()"
   ]
  },
  {
   "cell_type": "code",
   "execution_count": null,
   "id": "45a3e1d5",
   "metadata": {},
   "outputs": [
    {
     "name": "stdout",
     "output_type": "stream",
     "text": [
      "<class 'pandas.core.frame.DataFrame'>\n",
      "Index: 418 entries, 891 to 1308\n",
      "Data columns (total 16 columns):\n",
      " #   Column                  Non-Null Count  Dtype  \n",
      "---  ------                  --------------  -----  \n",
      " 0   PassengerId             418 non-null    int64  \n",
      " 1   Pclass                  418 non-null    int64  \n",
      " 2   Sex                     418 non-null    object \n",
      " 3   Age                     418 non-null    float64\n",
      " 4   SibSp                   418 non-null    int64  \n",
      " 5   Parch                   418 non-null    int64  \n",
      " 6   Fare                    418 non-null    float64\n",
      " 7   Embarked                418 non-null    object \n",
      " 8   cells_count             418 non-null    int64  \n",
      " 9   Cabin_letter            418 non-null    object \n",
      " 10  Title                   418 non-null    object \n",
      " 11  FamilySize              418 non-null    int64  \n",
      " 12  Is Alone                418 non-null    int64  \n",
      " 13  Is Special Agent/route  418 non-null    int64  \n",
      " 14  TicketBatch             418 non-null    int64  \n",
      " 15  SharedTicket            418 non-null    int64  \n",
      "dtypes: float64(2), int64(10), object(4)\n",
      "memory usage: 55.5+ KB\n"
     ]
    }
   ],
   "source": [
    "# Check info of the prediction data\n",
    "predict_df.info()"
   ]
  },
  {
   "cell_type": "code",
   "execution_count": null,
   "id": "4824dea3",
   "metadata": {},
   "outputs": [],
   "source": [
    "# Save model predictions for the prediction set for submission or ensembling\n",
    "save_model_predictions((logit.predict_proba(\n",
    "    predict_df.drop('PassengerId' , axis=1)\n",
    "                                     )[: , 1] >= 0.59).astype(int),\n",
    "                       'LogisticRegression'\n",
    "                       )# Predicting predict data"
   ]
  },
  {
   "cell_type": "code",
   "execution_count": null,
   "id": "b2dc6f37",
   "metadata": {},
   "outputs": [
    {
     "data": {
      "text/plain": [
       "'Model saved successfully'"
      ]
     },
     "execution_count": 305,
     "metadata": {},
     "output_type": "execute_result"
    }
   ],
   "source": [
    "# Save the trained Logistic Regression model for later use (e.g., in ensembling)\n",
    "import joblib\n",
    "\n",
    "model_filename = r'E:\\Data science\\Titanic dataset\\Models\\LogisticRegression.pkl'\n",
    "\n",
    "joblib.dump(logit , model_filename)\n",
    "\n",
    "\"\"\"Model saved successfully\"\"\""
   ]
  }
 ],
 "metadata": {
  "kernelspec": {
   "display_name": "venv",
   "language": "python",
   "name": "python3"
  },
  "language_info": {
   "codemirror_mode": {
    "name": "ipython",
    "version": 3
   },
   "file_extension": ".py",
   "mimetype": "text/x-python",
   "name": "python",
   "nbconvert_exporter": "python",
   "pygments_lexer": "ipython3",
   "version": "3.13.3"
  }
 },
 "nbformat": 4,
 "nbformat_minor": 5
}
